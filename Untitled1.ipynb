{
  "nbformat": 4,
  "nbformat_minor": 0,
  "metadata": {
    "colab": {
      "provenance": [],
      "authorship_tag": "ABX9TyOSNzNrxl4GolqdgvV12W4f",
      "include_colab_link": true
    },
    "kernelspec": {
      "name": "ir",
      "display_name": "R"
    },
    "language_info": {
      "name": "R"
    }
  },
  "cells": [
    {
      "cell_type": "markdown",
      "metadata": {
        "id": "view-in-github",
        "colab_type": "text"
      },
      "source": [
        "<a href=\"https://colab.research.google.com/github/Buumbl4/aula_inicial_R/blob/main/Untitled1.ipynb\" target=\"_parent\"><img src=\"https://colab.research.google.com/assets/colab-badge.svg\" alt=\"Open In Colab\"/></a>"
      ]
    },
    {
      "cell_type": "code",
      "execution_count": 1,
      "metadata": {
        "id": "4DI13yk2VS04",
        "colab": {
          "base_uri": "https://localhost:8080/"
        },
        "outputId": "3af75ead-ed0a-4817-817a-a08d42d7d29c"
      },
      "outputs": [
        {
          "output_type": "stream",
          "name": "stderr",
          "text": [
            "── \u001b[1mAttaching core tidyverse packages\u001b[22m ──────────────────────── tidyverse 2.0.0 ──\n",
            "\u001b[32m✔\u001b[39m \u001b[34mdplyr    \u001b[39m 1.1.4     \u001b[32m✔\u001b[39m \u001b[34mreadr    \u001b[39m 2.1.5\n",
            "\u001b[32m✔\u001b[39m \u001b[34mforcats  \u001b[39m 1.0.0     \u001b[32m✔\u001b[39m \u001b[34mstringr  \u001b[39m 1.5.1\n",
            "\u001b[32m✔\u001b[39m \u001b[34mggplot2  \u001b[39m 3.5.1     \u001b[32m✔\u001b[39m \u001b[34mtibble   \u001b[39m 3.2.1\n",
            "\u001b[32m✔\u001b[39m \u001b[34mlubridate\u001b[39m 1.9.4     \u001b[32m✔\u001b[39m \u001b[34mtidyr    \u001b[39m 1.3.1\n",
            "\u001b[32m✔\u001b[39m \u001b[34mpurrr    \u001b[39m 1.0.2     \n",
            "── \u001b[1mConflicts\u001b[22m ────────────────────────────────────────── tidyverse_conflicts() ──\n",
            "\u001b[31m✖\u001b[39m \u001b[34mdplyr\u001b[39m::\u001b[32mfilter()\u001b[39m masks \u001b[34mstats\u001b[39m::filter()\n",
            "\u001b[31m✖\u001b[39m \u001b[34mdplyr\u001b[39m::\u001b[32mlag()\u001b[39m    masks \u001b[34mstats\u001b[39m::lag()\n",
            "\u001b[36mℹ\u001b[39m Use the conflicted package (\u001b[3m\u001b[34m<http://conflicted.r-lib.org/>\u001b[39m\u001b[23m) to force all conflicts to become errors\n"
          ]
        }
      ],
      "source": [
        "library(tidyverse)"
      ]
    },
    {
      "cell_type": "code",
      "source": [
        "clientes <- read.csv('/content/clientes.csv')"
      ],
      "metadata": {
        "id": "8hU_24DYXXin"
      },
      "execution_count": 2,
      "outputs": []
    },
    {
      "cell_type": "code",
      "source": [
        "transacoes_milhas <- read.csv('/content/transacoes_milhas.csv')"
      ],
      "metadata": {
        "id": "F0x01t0iXfeb"
      },
      "execution_count": 3,
      "outputs": []
    },
    {
      "cell_type": "code",
      "source": [
        "transacoes_passagens <- read.csv('/content/transacoes_passagens.csv')"
      ],
      "metadata": {
        "id": "57kw8iPBXklp"
      },
      "execution_count": 4,
      "outputs": []
    },
    {
      "cell_type": "code",
      "source": [
        "head(clientes)"
      ],
      "metadata": {
        "colab": {
          "base_uri": "https://localhost:8080/",
          "height": 286
        },
        "id": "8nVcmbvWXo8B",
        "outputId": "2be14cef-4a34-40b5-da91-aba634ad4b4b"
      },
      "execution_count": 5,
      "outputs": [
        {
          "output_type": "display_data",
          "data": {
            "text/html": [
              "<table class=\"dataframe\">\n",
              "<caption>A data.frame: 6 × 5</caption>\n",
              "<thead>\n",
              "\t<tr><th></th><th scope=col>id_cliente</th><th scope=col>data_nascimento</th><th scope=col>status_fidelidade</th><th scope=col>milhas_acumuladas</th><th scope=col>gasto_total</th></tr>\n",
              "\t<tr><th></th><th scope=col>&lt;int&gt;</th><th scope=col>&lt;chr&gt;</th><th scope=col>&lt;chr&gt;</th><th scope=col>&lt;int&gt;</th><th scope=col>&lt;dbl&gt;</th></tr>\n",
              "</thead>\n",
              "<tbody>\n",
              "\t<tr><th scope=row>1</th><td>1</td><td>1971-01-09</td><td>Diamante</td><td>2833</td><td>1906.69</td></tr>\n",
              "\t<tr><th scope=row>2</th><td>2</td><td>1996-08-11</td><td>Diamante</td><td>8864</td><td> 493.58</td></tr>\n",
              "\t<tr><th scope=row>3</th><td>3</td><td>1994-07-18</td><td>Diamante</td><td> 917</td><td> 519.16</td></tr>\n",
              "\t<tr><th scope=row>4</th><td>4</td><td>2003-03-08</td><td>Prata   </td><td>8773</td><td>1256.60</td></tr>\n",
              "\t<tr><th scope=row>5</th><td>5</td><td>1962-06-05</td><td>Diamante</td><td>1492</td><td> 410.37</td></tr>\n",
              "\t<tr><th scope=row>6</th><td>6</td><td>1988-02-08</td><td>Prata   </td><td>6270</td><td> 250.93</td></tr>\n",
              "</tbody>\n",
              "</table>\n"
            ],
            "text/markdown": "\nA data.frame: 6 × 5\n\n| <!--/--> | id_cliente &lt;int&gt; | data_nascimento &lt;chr&gt; | status_fidelidade &lt;chr&gt; | milhas_acumuladas &lt;int&gt; | gasto_total &lt;dbl&gt; |\n|---|---|---|---|---|---|\n| 1 | 1 | 1971-01-09 | Diamante | 2833 | 1906.69 |\n| 2 | 2 | 1996-08-11 | Diamante | 8864 |  493.58 |\n| 3 | 3 | 1994-07-18 | Diamante |  917 |  519.16 |\n| 4 | 4 | 2003-03-08 | Prata    | 8773 | 1256.60 |\n| 5 | 5 | 1962-06-05 | Diamante | 1492 |  410.37 |\n| 6 | 6 | 1988-02-08 | Prata    | 6270 |  250.93 |\n\n",
            "text/latex": "A data.frame: 6 × 5\n\\begin{tabular}{r|lllll}\n  & id\\_cliente & data\\_nascimento & status\\_fidelidade & milhas\\_acumuladas & gasto\\_total\\\\\n  & <int> & <chr> & <chr> & <int> & <dbl>\\\\\n\\hline\n\t1 & 1 & 1971-01-09 & Diamante & 2833 & 1906.69\\\\\n\t2 & 2 & 1996-08-11 & Diamante & 8864 &  493.58\\\\\n\t3 & 3 & 1994-07-18 & Diamante &  917 &  519.16\\\\\n\t4 & 4 & 2003-03-08 & Prata    & 8773 & 1256.60\\\\\n\t5 & 5 & 1962-06-05 & Diamante & 1492 &  410.37\\\\\n\t6 & 6 & 1988-02-08 & Prata    & 6270 &  250.93\\\\\n\\end{tabular}\n",
            "text/plain": [
              "  id_cliente data_nascimento status_fidelidade milhas_acumuladas gasto_total\n",
              "1 1          1971-01-09      Diamante          2833              1906.69    \n",
              "2 2          1996-08-11      Diamante          8864               493.58    \n",
              "3 3          1994-07-18      Diamante           917               519.16    \n",
              "4 4          2003-03-08      Prata             8773              1256.60    \n",
              "5 5          1962-06-05      Diamante          1492               410.37    \n",
              "6 6          1988-02-08      Prata             6270               250.93    "
            ]
          },
          "metadata": {}
        }
      ]
    },
    {
      "cell_type": "code",
      "source": [
        "transacoes_milhas %>% head()"
      ],
      "metadata": {
        "colab": {
          "base_uri": "https://localhost:8080/",
          "height": 286
        },
        "id": "KoshZbu1Xrrc",
        "outputId": "9a92f387-4a74-40ab-edf8-0634b12b1246"
      },
      "execution_count": 6,
      "outputs": [
        {
          "output_type": "display_data",
          "data": {
            "text/html": [
              "<table class=\"dataframe\">\n",
              "<caption>A data.frame: 6 × 4</caption>\n",
              "<thead>\n",
              "\t<tr><th></th><th scope=col>id_cliente</th><th scope=col>data_venda_milhas</th><th scope=col>milhas_vendidas</th><th scope=col>valor_recebido</th></tr>\n",
              "\t<tr><th></th><th scope=col>&lt;int&gt;</th><th scope=col>&lt;chr&gt;</th><th scope=col>&lt;int&gt;</th><th scope=col>&lt;dbl&gt;</th></tr>\n",
              "</thead>\n",
              "<tbody>\n",
              "\t<tr><th scope=row>1</th><td>350</td><td>2023-02-23</td><td>4131</td><td> 536.88</td></tr>\n",
              "\t<tr><th scope=row>2</th><td>109</td><td>2022-09-26</td><td>6525</td><td> 113.70</td></tr>\n",
              "\t<tr><th scope=row>3</th><td>376</td><td>2022-06-12</td><td>9955</td><td> 466.73</td></tr>\n",
              "\t<tr><th scope=row>4</th><td>443</td><td>2022-12-17</td><td>5913</td><td>1489.56</td></tr>\n",
              "\t<tr><th scope=row>5</th><td>647</td><td>2023-10-06</td><td> 284</td><td>1908.38</td></tr>\n",
              "\t<tr><th scope=row>6</th><td>818</td><td>2023-05-29</td><td>4225</td><td>1339.10</td></tr>\n",
              "</tbody>\n",
              "</table>\n"
            ],
            "text/markdown": "\nA data.frame: 6 × 4\n\n| <!--/--> | id_cliente &lt;int&gt; | data_venda_milhas &lt;chr&gt; | milhas_vendidas &lt;int&gt; | valor_recebido &lt;dbl&gt; |\n|---|---|---|---|---|\n| 1 | 350 | 2023-02-23 | 4131 |  536.88 |\n| 2 | 109 | 2022-09-26 | 6525 |  113.70 |\n| 3 | 376 | 2022-06-12 | 9955 |  466.73 |\n| 4 | 443 | 2022-12-17 | 5913 | 1489.56 |\n| 5 | 647 | 2023-10-06 |  284 | 1908.38 |\n| 6 | 818 | 2023-05-29 | 4225 | 1339.10 |\n\n",
            "text/latex": "A data.frame: 6 × 4\n\\begin{tabular}{r|llll}\n  & id\\_cliente & data\\_venda\\_milhas & milhas\\_vendidas & valor\\_recebido\\\\\n  & <int> & <chr> & <int> & <dbl>\\\\\n\\hline\n\t1 & 350 & 2023-02-23 & 4131 &  536.88\\\\\n\t2 & 109 & 2022-09-26 & 6525 &  113.70\\\\\n\t3 & 376 & 2022-06-12 & 9955 &  466.73\\\\\n\t4 & 443 & 2022-12-17 & 5913 & 1489.56\\\\\n\t5 & 647 & 2023-10-06 &  284 & 1908.38\\\\\n\t6 & 818 & 2023-05-29 & 4225 & 1339.10\\\\\n\\end{tabular}\n",
            "text/plain": [
              "  id_cliente data_venda_milhas milhas_vendidas valor_recebido\n",
              "1 350        2023-02-23        4131             536.88       \n",
              "2 109        2022-09-26        6525             113.70       \n",
              "3 376        2022-06-12        9955             466.73       \n",
              "4 443        2022-12-17        5913            1489.56       \n",
              "5 647        2023-10-06         284            1908.38       \n",
              "6 818        2023-05-29        4225            1339.10       "
            ]
          },
          "metadata": {}
        }
      ]
    },
    {
      "cell_type": "code",
      "source": [
        "transacoes_passagens %>% glimpse()"
      ],
      "metadata": {
        "colab": {
          "base_uri": "https://localhost:8080/"
        },
        "id": "0hLGfuMlXvl1",
        "outputId": "ff479b45-59a1-4112-81e1-0a3a0b5dd9cb"
      },
      "execution_count": 7,
      "outputs": [
        {
          "output_type": "stream",
          "name": "stdout",
          "text": [
            "Rows: 1,000\n",
            "Columns: 6\n",
            "$ id_cliente        \u001b[3m\u001b[90m<int>\u001b[39m\u001b[23m 507, 86, 589, 774, 705, 316, 801, 149, 11, 154, 363,…\n",
            "$ data_transacao    \u001b[3m\u001b[90m<chr>\u001b[39m\u001b[23m \"2023-01-30\", \"2023-03-07\", \"2022-02-11\", \"2022-09-2…\n",
            "$ milhas_utilizadas \u001b[3m\u001b[90m<int>\u001b[39m\u001b[23m 9837, 6067, 2893, 2274, 6043, 1798, 4354, 6976, 6344…\n",
            "$ valor_pago        \u001b[3m\u001b[90m<dbl>\u001b[39m\u001b[23m 424.31, 513.52, 1320.34, 1000.44, 1607.35, 1802.67, …\n",
            "$ classe_voo        \u001b[3m\u001b[90m<chr>\u001b[39m\u001b[23m \"Economica\", \"Economica\", \"Primeira Classe\", \"Econom…\n",
            "$ numero_voo        \u001b[3m\u001b[90m<int>\u001b[39m\u001b[23m 3705, 9504, 1695, 2963, 9190, 6242, 2415, 6747, 3509…\n"
          ]
        }
      ]
    },
    {
      "cell_type": "code",
      "source": [
        "clientes %>% glimpse()"
      ],
      "metadata": {
        "id": "-hV6r3JUX623",
        "colab": {
          "base_uri": "https://localhost:8080/"
        },
        "outputId": "b90cb27b-b4b9-476e-c997-8577bfabe51f"
      },
      "execution_count": 8,
      "outputs": [
        {
          "output_type": "stream",
          "name": "stdout",
          "text": [
            "Rows: 1,000\n",
            "Columns: 5\n",
            "$ id_cliente        \u001b[3m\u001b[90m<int>\u001b[39m\u001b[23m 1, 2, 3, 4, 5, 6, 7, 8, 9, 10, 11, 12, 13, 14, 15, 1…\n",
            "$ data_nascimento   \u001b[3m\u001b[90m<chr>\u001b[39m\u001b[23m \"1971-01-09\", \"1996-08-11\", \"1994-07-18\", \"2003-03-0…\n",
            "$ status_fidelidade \u001b[3m\u001b[90m<chr>\u001b[39m\u001b[23m \"Diamante\", \"Diamante\", \"Diamante\", \"Prata\", \"Diaman…\n",
            "$ milhas_acumuladas \u001b[3m\u001b[90m<int>\u001b[39m\u001b[23m 2833, 8864, 917, 8773, 1492, 6270, 2583, 8263, 8914,…\n",
            "$ gasto_total       \u001b[3m\u001b[90m<dbl>\u001b[39m\u001b[23m 1906.69, 493.58, 519.16, 1256.60, 410.37, 250.93, 92…\n"
          ]
        }
      ]
    },
    {
      "cell_type": "code",
      "source": [
        "transacoes_milhas %>% glimpse()"
      ],
      "metadata": {
        "colab": {
          "base_uri": "https://localhost:8080/"
        },
        "id": "XfACw5mIur36",
        "outputId": "f0b18b63-e4ef-4443-81e4-3e9d11abbb41"
      },
      "execution_count": 9,
      "outputs": [
        {
          "output_type": "stream",
          "name": "stdout",
          "text": [
            "Rows: 1,000\n",
            "Columns: 4\n",
            "$ id_cliente        \u001b[3m\u001b[90m<int>\u001b[39m\u001b[23m 350, 109, 376, 443, 647, 818, 32, 770, 707, 842, 170…\n",
            "$ data_venda_milhas \u001b[3m\u001b[90m<chr>\u001b[39m\u001b[23m \"2023-02-23\", \"2022-09-26\", \"2022-06-12\", \"2022-12-1…\n",
            "$ milhas_vendidas   \u001b[3m\u001b[90m<int>\u001b[39m\u001b[23m 4131, 6525, 9955, 5913, 284, 4225, 2854, 6127, 5091,…\n",
            "$ valor_recebido    \u001b[3m\u001b[90m<dbl>\u001b[39m\u001b[23m 536.88, 113.70, 466.73, 1489.56, 1908.38, 1339.10, 1…\n"
          ]
        }
      ]
    },
    {
      "cell_type": "code",
      "source": [
        "transacoes_passagens <- transacoes_passagens %>% select(id_cliente, data_transacao, milhas_utilizadas, valor_pago)"
      ],
      "metadata": {
        "id": "IkBOmqcGu0z4"
      },
      "execution_count": 10,
      "outputs": []
    },
    {
      "cell_type": "code",
      "source": [
        "transacoes_passagens %>% glimpse()"
      ],
      "metadata": {
        "colab": {
          "base_uri": "https://localhost:8080/"
        },
        "id": "tXBbAIiIvB6S",
        "outputId": "34d8dbb6-ec88-4c9f-8e91-9d8ff2fe2f4b"
      },
      "execution_count": 11,
      "outputs": [
        {
          "output_type": "stream",
          "name": "stdout",
          "text": [
            "Rows: 1,000\n",
            "Columns: 4\n",
            "$ id_cliente        \u001b[3m\u001b[90m<int>\u001b[39m\u001b[23m 507, 86, 589, 774, 705, 316, 801, 149, 11, 154, 363,…\n",
            "$ data_transacao    \u001b[3m\u001b[90m<chr>\u001b[39m\u001b[23m \"2023-01-30\", \"2023-03-07\", \"2022-02-11\", \"2022-09-2…\n",
            "$ milhas_utilizadas \u001b[3m\u001b[90m<int>\u001b[39m\u001b[23m 9837, 6067, 2893, 2274, 6043, 1798, 4354, 6976, 6344…\n",
            "$ valor_pago        \u001b[3m\u001b[90m<dbl>\u001b[39m\u001b[23m 424.31, 513.52, 1320.34, 1000.44, 1607.35, 1802.67, …\n"
          ]
        }
      ]
    },
    {
      "cell_type": "code",
      "source": [
        "transacoes_milhas <- transacoes_milhas %>% filter(data_venda_milhas >= '2022-01-01' & data_venda_milhas <= '2022-12-31')"
      ],
      "metadata": {
        "id": "-fj6XtivwWIG"
      },
      "execution_count": 12,
      "outputs": []
    },
    {
      "cell_type": "code",
      "source": [
        "transacoes_milhas %>% glimpse()"
      ],
      "metadata": {
        "colab": {
          "base_uri": "https://localhost:8080/"
        },
        "id": "Qz6-eynIw5j2",
        "outputId": "b38bdf43-4cd5-4a28-8139-12f3586265ad"
      },
      "execution_count": 13,
      "outputs": [
        {
          "output_type": "stream",
          "name": "stdout",
          "text": [
            "Rows: 485\n",
            "Columns: 4\n",
            "$ id_cliente        \u001b[3m\u001b[90m<int>\u001b[39m\u001b[23m 109, 376, 443, 32, 842, 609, 391, 600, 101, 761, 959…\n",
            "$ data_venda_milhas \u001b[3m\u001b[90m<chr>\u001b[39m\u001b[23m \"2022-09-26\", \"2022-06-12\", \"2022-12-17\", \"2022-12-0…\n",
            "$ milhas_vendidas   \u001b[3m\u001b[90m<int>\u001b[39m\u001b[23m 6525, 9955, 5913, 2854, 5686, 937, 1190, 8295, 635, …\n",
            "$ valor_recebido    \u001b[3m\u001b[90m<dbl>\u001b[39m\u001b[23m 113.70, 466.73, 1489.56, 1983.85, 191.69, 183.50, 47…\n"
          ]
        }
      ]
    },
    {
      "cell_type": "code",
      "source": [
        "transacoes_passagens <- transacoes_passagens %>% filter(data_transacao >= '2022-01-01' & data_transacao <= '2022-12-31')"
      ],
      "metadata": {
        "id": "gSp8dJVvw8NI"
      },
      "execution_count": 14,
      "outputs": []
    },
    {
      "cell_type": "code",
      "source": [
        "transacoes_passagens %>% glimpse()"
      ],
      "metadata": {
        "colab": {
          "base_uri": "https://localhost:8080/"
        },
        "id": "AZk43xkbyqtm",
        "outputId": "b379504d-f09d-4bcf-a58a-79821a19f1b2"
      },
      "execution_count": 15,
      "outputs": [
        {
          "output_type": "stream",
          "name": "stdout",
          "text": [
            "Rows: 502\n",
            "Columns: 4\n",
            "$ id_cliente        \u001b[3m\u001b[90m<int>\u001b[39m\u001b[23m 589, 774, 149, 620, 96, 449, 693, 242, 358, 317, 633…\n",
            "$ data_transacao    \u001b[3m\u001b[90m<chr>\u001b[39m\u001b[23m \"2022-02-11\", \"2022-09-23\", \"2022-11-07\", \"2022-08-1…\n",
            "$ milhas_utilizadas \u001b[3m\u001b[90m<int>\u001b[39m\u001b[23m 2893, 2274, 6976, 6479, 9444, 8102, 5335, 7139, 7280…\n",
            "$ valor_pago        \u001b[3m\u001b[90m<dbl>\u001b[39m\u001b[23m 1320.34, 1000.44, 309.56, 1869.74, 267.63, 268.38, 1…\n"
          ]
        }
      ]
    },
    {
      "cell_type": "code",
      "source": [
        "transacoes_passagens <- transacoes_passagens %>% mutate(custo_por_milhas = valor_pago / milhas_utilizadas)"
      ],
      "metadata": {
        "id": "JblH-s_eys7j"
      },
      "execution_count": 16,
      "outputs": []
    },
    {
      "cell_type": "code",
      "source": [
        "transacoes_passagens %>% glimpse()"
      ],
      "metadata": {
        "colab": {
          "base_uri": "https://localhost:8080/"
        },
        "id": "UwVmJKZHz4Bj",
        "outputId": "588d8a7d-cb7c-4395-f406-6b460acf10cf"
      },
      "execution_count": 17,
      "outputs": [
        {
          "output_type": "stream",
          "name": "stdout",
          "text": [
            "Rows: 502\n",
            "Columns: 5\n",
            "$ id_cliente        \u001b[3m\u001b[90m<int>\u001b[39m\u001b[23m 589, 774, 149, 620, 96, 449, 693, 242, 358, 317, 633…\n",
            "$ data_transacao    \u001b[3m\u001b[90m<chr>\u001b[39m\u001b[23m \"2022-02-11\", \"2022-09-23\", \"2022-11-07\", \"2022-08-1…\n",
            "$ milhas_utilizadas \u001b[3m\u001b[90m<int>\u001b[39m\u001b[23m 2893, 2274, 6976, 6479, 9444, 8102, 5335, 7139, 7280…\n",
            "$ valor_pago        \u001b[3m\u001b[90m<dbl>\u001b[39m\u001b[23m 1320.34, 1000.44, 309.56, 1869.74, 267.63, 268.38, 1…\n",
            "$ custo_por_milhas  \u001b[3m\u001b[90m<dbl>\u001b[39m\u001b[23m 0.45639129, 0.43994723, 0.04437500, 0.28858466, 0.02…\n"
          ]
        }
      ]
    },
    {
      "cell_type": "code",
      "source": [
        "media_milhas <- transacoes_passagens %>% group_by(id_cliente) %>%\n",
        "  summarise(media_milhas = mean(milhas_utilizadas))"
      ],
      "metadata": {
        "id": "-fIqPIkrz7Hw"
      },
      "execution_count": 18,
      "outputs": []
    },
    {
      "cell_type": "code",
      "source": [
        "media_milhas %>% head()"
      ],
      "metadata": {
        "colab": {
          "base_uri": "https://localhost:8080/",
          "height": 286
        },
        "id": "PYDO_eCE0uP8",
        "outputId": "e94c9ed1-3753-4b02-af96-9812631bc350"
      },
      "execution_count": 19,
      "outputs": [
        {
          "output_type": "display_data",
          "data": {
            "text/html": [
              "<table class=\"dataframe\">\n",
              "<caption>A tibble: 6 × 2</caption>\n",
              "<thead>\n",
              "\t<tr><th scope=col>id_cliente</th><th scope=col>media_milhas</th></tr>\n",
              "\t<tr><th scope=col>&lt;int&gt;</th><th scope=col>&lt;dbl&gt;</th></tr>\n",
              "</thead>\n",
              "<tbody>\n",
              "\t<tr><td> 3</td><td>1023.0</td></tr>\n",
              "\t<tr><td> 7</td><td>7074.5</td></tr>\n",
              "\t<tr><td>10</td><td>6537.0</td></tr>\n",
              "\t<tr><td>12</td><td>9312.0</td></tr>\n",
              "\t<tr><td>13</td><td>4123.0</td></tr>\n",
              "\t<tr><td>15</td><td>7541.0</td></tr>\n",
              "</tbody>\n",
              "</table>\n"
            ],
            "text/markdown": "\nA tibble: 6 × 2\n\n| id_cliente &lt;int&gt; | media_milhas &lt;dbl&gt; |\n|---|---|\n|  3 | 1023.0 |\n|  7 | 7074.5 |\n| 10 | 6537.0 |\n| 12 | 9312.0 |\n| 13 | 4123.0 |\n| 15 | 7541.0 |\n\n",
            "text/latex": "A tibble: 6 × 2\n\\begin{tabular}{ll}\n id\\_cliente & media\\_milhas\\\\\n <int> & <dbl>\\\\\n\\hline\n\t  3 & 1023.0\\\\\n\t  7 & 7074.5\\\\\n\t 10 & 6537.0\\\\\n\t 12 & 9312.0\\\\\n\t 13 & 4123.0\\\\\n\t 15 & 7541.0\\\\\n\\end{tabular}\n",
            "text/plain": [
              "  id_cliente media_milhas\n",
              "1  3         1023.0      \n",
              "2  7         7074.5      \n",
              "3 10         6537.0      \n",
              "4 12         9312.0      \n",
              "5 13         4123.0      \n",
              "6 15         7541.0      "
            ]
          },
          "metadata": {}
        }
      ]
    },
    {
      "cell_type": "code",
      "source": [
        "transacoes_passagens %>% head()"
      ],
      "metadata": {
        "id": "AeaZx_YS0yFI",
        "colab": {
          "base_uri": "https://localhost:8080/",
          "height": 286
        },
        "outputId": "3d6a678b-a19e-4c2c-fd8f-3c3b40d1293e"
      },
      "execution_count": 20,
      "outputs": [
        {
          "output_type": "display_data",
          "data": {
            "text/html": [
              "<table class=\"dataframe\">\n",
              "<caption>A data.frame: 6 × 5</caption>\n",
              "<thead>\n",
              "\t<tr><th></th><th scope=col>id_cliente</th><th scope=col>data_transacao</th><th scope=col>milhas_utilizadas</th><th scope=col>valor_pago</th><th scope=col>custo_por_milhas</th></tr>\n",
              "\t<tr><th></th><th scope=col>&lt;int&gt;</th><th scope=col>&lt;chr&gt;</th><th scope=col>&lt;int&gt;</th><th scope=col>&lt;dbl&gt;</th><th scope=col>&lt;dbl&gt;</th></tr>\n",
              "</thead>\n",
              "<tbody>\n",
              "\t<tr><th scope=row>1</th><td>589</td><td>2022-02-11</td><td>2893</td><td>1320.34</td><td>0.45639129</td></tr>\n",
              "\t<tr><th scope=row>2</th><td>774</td><td>2022-09-23</td><td>2274</td><td>1000.44</td><td>0.43994723</td></tr>\n",
              "\t<tr><th scope=row>3</th><td>149</td><td>2022-11-07</td><td>6976</td><td> 309.56</td><td>0.04437500</td></tr>\n",
              "\t<tr><th scope=row>4</th><td>620</td><td>2022-08-12</td><td>6479</td><td>1869.74</td><td>0.28858466</td></tr>\n",
              "\t<tr><th scope=row>5</th><td> 96</td><td>2022-05-23</td><td>9444</td><td> 267.63</td><td>0.02833863</td></tr>\n",
              "\t<tr><th scope=row>6</th><td>449</td><td>2022-10-16</td><td>8102</td><td> 268.38</td><td>0.03312515</td></tr>\n",
              "</tbody>\n",
              "</table>\n"
            ],
            "text/markdown": "\nA data.frame: 6 × 5\n\n| <!--/--> | id_cliente &lt;int&gt; | data_transacao &lt;chr&gt; | milhas_utilizadas &lt;int&gt; | valor_pago &lt;dbl&gt; | custo_por_milhas &lt;dbl&gt; |\n|---|---|---|---|---|---|\n| 1 | 589 | 2022-02-11 | 2893 | 1320.34 | 0.45639129 |\n| 2 | 774 | 2022-09-23 | 2274 | 1000.44 | 0.43994723 |\n| 3 | 149 | 2022-11-07 | 6976 |  309.56 | 0.04437500 |\n| 4 | 620 | 2022-08-12 | 6479 | 1869.74 | 0.28858466 |\n| 5 |  96 | 2022-05-23 | 9444 |  267.63 | 0.02833863 |\n| 6 | 449 | 2022-10-16 | 8102 |  268.38 | 0.03312515 |\n\n",
            "text/latex": "A data.frame: 6 × 5\n\\begin{tabular}{r|lllll}\n  & id\\_cliente & data\\_transacao & milhas\\_utilizadas & valor\\_pago & custo\\_por\\_milhas\\\\\n  & <int> & <chr> & <int> & <dbl> & <dbl>\\\\\n\\hline\n\t1 & 589 & 2022-02-11 & 2893 & 1320.34 & 0.45639129\\\\\n\t2 & 774 & 2022-09-23 & 2274 & 1000.44 & 0.43994723\\\\\n\t3 & 149 & 2022-11-07 & 6976 &  309.56 & 0.04437500\\\\\n\t4 & 620 & 2022-08-12 & 6479 & 1869.74 & 0.28858466\\\\\n\t5 &  96 & 2022-05-23 & 9444 &  267.63 & 0.02833863\\\\\n\t6 & 449 & 2022-10-16 & 8102 &  268.38 & 0.03312515\\\\\n\\end{tabular}\n",
            "text/plain": [
              "  id_cliente data_transacao milhas_utilizadas valor_pago custo_por_milhas\n",
              "1 589        2022-02-11     2893              1320.34    0.45639129      \n",
              "2 774        2022-09-23     2274              1000.44    0.43994723      \n",
              "3 149        2022-11-07     6976               309.56    0.04437500      \n",
              "4 620        2022-08-12     6479              1869.74    0.28858466      \n",
              "5  96        2022-05-23     9444               267.63    0.02833863      \n",
              "6 449        2022-10-16     8102               268.38    0.03312515      "
            ]
          },
          "metadata": {}
        }
      ]
    },
    {
      "cell_type": "code",
      "source": [
        "transacoes_passagens <- transacoes_passagens %>% arrange(data_transacao)"
      ],
      "metadata": {
        "id": "1LfuUXMpWGp6"
      },
      "execution_count": 21,
      "outputs": []
    },
    {
      "cell_type": "code",
      "source": [
        "transacoes_passagens %>% head()"
      ],
      "metadata": {
        "colab": {
          "base_uri": "https://localhost:8080/",
          "height": 286
        },
        "id": "JaSmj1JtWav7",
        "outputId": "95c6a1b8-f241-4e1a-fc29-1a2e0ca0793e"
      },
      "execution_count": 22,
      "outputs": [
        {
          "output_type": "display_data",
          "data": {
            "text/html": [
              "<table class=\"dataframe\">\n",
              "<caption>A data.frame: 6 × 5</caption>\n",
              "<thead>\n",
              "\t<tr><th></th><th scope=col>id_cliente</th><th scope=col>data_transacao</th><th scope=col>milhas_utilizadas</th><th scope=col>valor_pago</th><th scope=col>custo_por_milhas</th></tr>\n",
              "\t<tr><th></th><th scope=col>&lt;int&gt;</th><th scope=col>&lt;chr&gt;</th><th scope=col>&lt;int&gt;</th><th scope=col>&lt;dbl&gt;</th><th scope=col>&lt;dbl&gt;</th></tr>\n",
              "</thead>\n",
              "<tbody>\n",
              "\t<tr><th scope=row>1</th><td>967</td><td>2022-01-01</td><td>1198</td><td>1217.17</td><td>1.0160017</td></tr>\n",
              "\t<tr><th scope=row>2</th><td>747</td><td>2022-01-01</td><td>8451</td><td>1064.09</td><td>0.1259129</td></tr>\n",
              "\t<tr><th scope=row>3</th><td>237</td><td>2022-01-01</td><td>7996</td><td>1684.94</td><td>0.2107229</td></tr>\n",
              "\t<tr><th scope=row>4</th><td>504</td><td>2022-01-02</td><td>6143</td><td> 692.94</td><td>0.1128016</td></tr>\n",
              "\t<tr><th scope=row>5</th><td>840</td><td>2022-01-02</td><td>5267</td><td>1496.54</td><td>0.2841352</td></tr>\n",
              "\t<tr><th scope=row>6</th><td>396</td><td>2022-01-02</td><td>1929</td><td> 760.04</td><td>0.3940073</td></tr>\n",
              "</tbody>\n",
              "</table>\n"
            ],
            "text/markdown": "\nA data.frame: 6 × 5\n\n| <!--/--> | id_cliente &lt;int&gt; | data_transacao &lt;chr&gt; | milhas_utilizadas &lt;int&gt; | valor_pago &lt;dbl&gt; | custo_por_milhas &lt;dbl&gt; |\n|---|---|---|---|---|---|\n| 1 | 967 | 2022-01-01 | 1198 | 1217.17 | 1.0160017 |\n| 2 | 747 | 2022-01-01 | 8451 | 1064.09 | 0.1259129 |\n| 3 | 237 | 2022-01-01 | 7996 | 1684.94 | 0.2107229 |\n| 4 | 504 | 2022-01-02 | 6143 |  692.94 | 0.1128016 |\n| 5 | 840 | 2022-01-02 | 5267 | 1496.54 | 0.2841352 |\n| 6 | 396 | 2022-01-02 | 1929 |  760.04 | 0.3940073 |\n\n",
            "text/latex": "A data.frame: 6 × 5\n\\begin{tabular}{r|lllll}\n  & id\\_cliente & data\\_transacao & milhas\\_utilizadas & valor\\_pago & custo\\_por\\_milhas\\\\\n  & <int> & <chr> & <int> & <dbl> & <dbl>\\\\\n\\hline\n\t1 & 967 & 2022-01-01 & 1198 & 1217.17 & 1.0160017\\\\\n\t2 & 747 & 2022-01-01 & 8451 & 1064.09 & 0.1259129\\\\\n\t3 & 237 & 2022-01-01 & 7996 & 1684.94 & 0.2107229\\\\\n\t4 & 504 & 2022-01-02 & 6143 &  692.94 & 0.1128016\\\\\n\t5 & 840 & 2022-01-02 & 5267 & 1496.54 & 0.2841352\\\\\n\t6 & 396 & 2022-01-02 & 1929 &  760.04 & 0.3940073\\\\\n\\end{tabular}\n",
            "text/plain": [
              "  id_cliente data_transacao milhas_utilizadas valor_pago custo_por_milhas\n",
              "1 967        2022-01-01     1198              1217.17    1.0160017       \n",
              "2 747        2022-01-01     8451              1064.09    0.1259129       \n",
              "3 237        2022-01-01     7996              1684.94    0.2107229       \n",
              "4 504        2022-01-02     6143               692.94    0.1128016       \n",
              "5 840        2022-01-02     5267              1496.54    0.2841352       \n",
              "6 396        2022-01-02     1929               760.04    0.3940073       "
            ]
          },
          "metadata": {}
        }
      ]
    },
    {
      "cell_type": "code",
      "source": [
        "transacoes_milhas <- transacoes_milhas %>% arrange(id_cliente)"
      ],
      "metadata": {
        "id": "pg7eDu6dWc5f"
      },
      "execution_count": 23,
      "outputs": []
    },
    {
      "cell_type": "code",
      "source": [
        "transacoes_milhas %>% head()"
      ],
      "metadata": {
        "colab": {
          "base_uri": "https://localhost:8080/",
          "height": 286
        },
        "id": "Xk4H1zuZYA8f",
        "outputId": "9b02556e-ff9b-4db6-faee-1be39884fd78"
      },
      "execution_count": 24,
      "outputs": [
        {
          "output_type": "display_data",
          "data": {
            "text/html": [
              "<table class=\"dataframe\">\n",
              "<caption>A data.frame: 6 × 4</caption>\n",
              "<thead>\n",
              "\t<tr><th></th><th scope=col>id_cliente</th><th scope=col>data_venda_milhas</th><th scope=col>milhas_vendidas</th><th scope=col>valor_recebido</th></tr>\n",
              "\t<tr><th></th><th scope=col>&lt;int&gt;</th><th scope=col>&lt;chr&gt;</th><th scope=col>&lt;int&gt;</th><th scope=col>&lt;dbl&gt;</th></tr>\n",
              "</thead>\n",
              "<tbody>\n",
              "\t<tr><th scope=row>1</th><td> 1</td><td>2022-07-12</td><td> 868</td><td> 432.43</td></tr>\n",
              "\t<tr><th scope=row>2</th><td> 6</td><td>2022-11-02</td><td>1014</td><td>1521.88</td></tr>\n",
              "\t<tr><th scope=row>3</th><td> 7</td><td>2022-09-05</td><td>6269</td><td> 664.82</td></tr>\n",
              "\t<tr><th scope=row>4</th><td>10</td><td>2022-05-21</td><td>4346</td><td>1662.99</td></tr>\n",
              "\t<tr><th scope=row>5</th><td>10</td><td>2022-11-15</td><td> 471</td><td> 727.40</td></tr>\n",
              "\t<tr><th scope=row>6</th><td>11</td><td>2022-02-17</td><td>6554</td><td>1381.80</td></tr>\n",
              "</tbody>\n",
              "</table>\n"
            ],
            "text/markdown": "\nA data.frame: 6 × 4\n\n| <!--/--> | id_cliente &lt;int&gt; | data_venda_milhas &lt;chr&gt; | milhas_vendidas &lt;int&gt; | valor_recebido &lt;dbl&gt; |\n|---|---|---|---|---|\n| 1 |  1 | 2022-07-12 |  868 |  432.43 |\n| 2 |  6 | 2022-11-02 | 1014 | 1521.88 |\n| 3 |  7 | 2022-09-05 | 6269 |  664.82 |\n| 4 | 10 | 2022-05-21 | 4346 | 1662.99 |\n| 5 | 10 | 2022-11-15 |  471 |  727.40 |\n| 6 | 11 | 2022-02-17 | 6554 | 1381.80 |\n\n",
            "text/latex": "A data.frame: 6 × 4\n\\begin{tabular}{r|llll}\n  & id\\_cliente & data\\_venda\\_milhas & milhas\\_vendidas & valor\\_recebido\\\\\n  & <int> & <chr> & <int> & <dbl>\\\\\n\\hline\n\t1 &  1 & 2022-07-12 &  868 &  432.43\\\\\n\t2 &  6 & 2022-11-02 & 1014 & 1521.88\\\\\n\t3 &  7 & 2022-09-05 & 6269 &  664.82\\\\\n\t4 & 10 & 2022-05-21 & 4346 & 1662.99\\\\\n\t5 & 10 & 2022-11-15 &  471 &  727.40\\\\\n\t6 & 11 & 2022-02-17 & 6554 & 1381.80\\\\\n\\end{tabular}\n",
            "text/plain": [
              "  id_cliente data_venda_milhas milhas_vendidas valor_recebido\n",
              "1  1         2022-07-12         868             432.43       \n",
              "2  6         2022-11-02        1014            1521.88       \n",
              "3  7         2022-09-05        6269             664.82       \n",
              "4 10         2022-05-21        4346            1662.99       \n",
              "5 10         2022-11-15         471             727.40       \n",
              "6 11         2022-02-17        6554            1381.80       "
            ]
          },
          "metadata": {}
        }
      ]
    },
    {
      "cell_type": "code",
      "source": [
        "transacoes_passagens <- transacoes_passagens %>% left_join(clientes, by = 'id_cliente')"
      ],
      "metadata": {
        "id": "k9FmGUerYCqD"
      },
      "execution_count": 25,
      "outputs": []
    },
    {
      "cell_type": "code",
      "source": [
        "transacoes_passagens %>% head()"
      ],
      "metadata": {
        "colab": {
          "base_uri": "https://localhost:8080/",
          "height": 286
        },
        "id": "Jt8J8YQYZ9UF",
        "outputId": "980f5a7f-7ad2-4052-e1c5-770fe1e53b56"
      },
      "execution_count": 26,
      "outputs": [
        {
          "output_type": "display_data",
          "data": {
            "text/html": [
              "<table class=\"dataframe\">\n",
              "<caption>A data.frame: 6 × 9</caption>\n",
              "<thead>\n",
              "\t<tr><th></th><th scope=col>id_cliente</th><th scope=col>data_transacao</th><th scope=col>milhas_utilizadas</th><th scope=col>valor_pago</th><th scope=col>custo_por_milhas</th><th scope=col>data_nascimento</th><th scope=col>status_fidelidade</th><th scope=col>milhas_acumuladas</th><th scope=col>gasto_total</th></tr>\n",
              "\t<tr><th></th><th scope=col>&lt;int&gt;</th><th scope=col>&lt;chr&gt;</th><th scope=col>&lt;int&gt;</th><th scope=col>&lt;dbl&gt;</th><th scope=col>&lt;dbl&gt;</th><th scope=col>&lt;chr&gt;</th><th scope=col>&lt;chr&gt;</th><th scope=col>&lt;int&gt;</th><th scope=col>&lt;dbl&gt;</th></tr>\n",
              "</thead>\n",
              "<tbody>\n",
              "\t<tr><th scope=row>1</th><td>967</td><td>2022-01-01</td><td>1198</td><td>1217.17</td><td>1.0160017</td><td>1963-12-21</td><td>Prata   </td><td>7635</td><td> 710.17</td></tr>\n",
              "\t<tr><th scope=row>2</th><td>747</td><td>2022-01-01</td><td>8451</td><td>1064.09</td><td>0.1259129</td><td>1967-04-16</td><td>Diamante</td><td>1952</td><td> 706.99</td></tr>\n",
              "\t<tr><th scope=row>3</th><td>237</td><td>2022-01-01</td><td>7996</td><td>1684.94</td><td>0.2107229</td><td>1961-07-17</td><td>Ouro    </td><td>5529</td><td>1002.03</td></tr>\n",
              "\t<tr><th scope=row>4</th><td>504</td><td>2022-01-02</td><td>6143</td><td> 692.94</td><td>0.1128016</td><td>1999-02-14</td><td>Diamante</td><td>8871</td><td> 922.06</td></tr>\n",
              "\t<tr><th scope=row>5</th><td>840</td><td>2022-01-02</td><td>5267</td><td>1496.54</td><td>0.2841352</td><td>1983-12-04</td><td>Ouro    </td><td>9589</td><td>1987.85</td></tr>\n",
              "\t<tr><th scope=row>6</th><td>396</td><td>2022-01-02</td><td>1929</td><td> 760.04</td><td>0.3940073</td><td>1972-06-30</td><td>Diamante</td><td>2142</td><td> 285.24</td></tr>\n",
              "</tbody>\n",
              "</table>\n"
            ],
            "text/markdown": "\nA data.frame: 6 × 9\n\n| <!--/--> | id_cliente &lt;int&gt; | data_transacao &lt;chr&gt; | milhas_utilizadas &lt;int&gt; | valor_pago &lt;dbl&gt; | custo_por_milhas &lt;dbl&gt; | data_nascimento &lt;chr&gt; | status_fidelidade &lt;chr&gt; | milhas_acumuladas &lt;int&gt; | gasto_total &lt;dbl&gt; |\n|---|---|---|---|---|---|---|---|---|---|\n| 1 | 967 | 2022-01-01 | 1198 | 1217.17 | 1.0160017 | 1963-12-21 | Prata    | 7635 |  710.17 |\n| 2 | 747 | 2022-01-01 | 8451 | 1064.09 | 0.1259129 | 1967-04-16 | Diamante | 1952 |  706.99 |\n| 3 | 237 | 2022-01-01 | 7996 | 1684.94 | 0.2107229 | 1961-07-17 | Ouro     | 5529 | 1002.03 |\n| 4 | 504 | 2022-01-02 | 6143 |  692.94 | 0.1128016 | 1999-02-14 | Diamante | 8871 |  922.06 |\n| 5 | 840 | 2022-01-02 | 5267 | 1496.54 | 0.2841352 | 1983-12-04 | Ouro     | 9589 | 1987.85 |\n| 6 | 396 | 2022-01-02 | 1929 |  760.04 | 0.3940073 | 1972-06-30 | Diamante | 2142 |  285.24 |\n\n",
            "text/latex": "A data.frame: 6 × 9\n\\begin{tabular}{r|lllllllll}\n  & id\\_cliente & data\\_transacao & milhas\\_utilizadas & valor\\_pago & custo\\_por\\_milhas & data\\_nascimento & status\\_fidelidade & milhas\\_acumuladas & gasto\\_total\\\\\n  & <int> & <chr> & <int> & <dbl> & <dbl> & <chr> & <chr> & <int> & <dbl>\\\\\n\\hline\n\t1 & 967 & 2022-01-01 & 1198 & 1217.17 & 1.0160017 & 1963-12-21 & Prata    & 7635 &  710.17\\\\\n\t2 & 747 & 2022-01-01 & 8451 & 1064.09 & 0.1259129 & 1967-04-16 & Diamante & 1952 &  706.99\\\\\n\t3 & 237 & 2022-01-01 & 7996 & 1684.94 & 0.2107229 & 1961-07-17 & Ouro     & 5529 & 1002.03\\\\\n\t4 & 504 & 2022-01-02 & 6143 &  692.94 & 0.1128016 & 1999-02-14 & Diamante & 8871 &  922.06\\\\\n\t5 & 840 & 2022-01-02 & 5267 & 1496.54 & 0.2841352 & 1983-12-04 & Ouro     & 9589 & 1987.85\\\\\n\t6 & 396 & 2022-01-02 & 1929 &  760.04 & 0.3940073 & 1972-06-30 & Diamante & 2142 &  285.24\\\\\n\\end{tabular}\n",
            "text/plain": [
              "  id_cliente data_transacao milhas_utilizadas valor_pago custo_por_milhas\n",
              "1 967        2022-01-01     1198              1217.17    1.0160017       \n",
              "2 747        2022-01-01     8451              1064.09    0.1259129       \n",
              "3 237        2022-01-01     7996              1684.94    0.2107229       \n",
              "4 504        2022-01-02     6143               692.94    0.1128016       \n",
              "5 840        2022-01-02     5267              1496.54    0.2841352       \n",
              "6 396        2022-01-02     1929               760.04    0.3940073       \n",
              "  data_nascimento status_fidelidade milhas_acumuladas gasto_total\n",
              "1 1963-12-21      Prata             7635               710.17    \n",
              "2 1967-04-16      Diamante          1952               706.99    \n",
              "3 1961-07-17      Ouro              5529              1002.03    \n",
              "4 1999-02-14      Diamante          8871               922.06    \n",
              "5 1983-12-04      Ouro              9589              1987.85    \n",
              "6 1972-06-30      Diamante          2142               285.24    "
            ]
          },
          "metadata": {}
        }
      ]
    },
    {
      "cell_type": "code",
      "source": [
        "transacoes_passagens <- transacoes_passagens %>% rename(\n",
        "  ID_Cliente = id_cliente,\n",
        "  Data_Compra_Passagem = data_transacao,\n",
        "  Milhas_Utilizadas = milhas_utilizadas,\n",
        "  Valor_Pago = valor_pago,\n",
        "  Custo_Por_Milhas = custo_por_milhas,\n",
        "  Aniversario = data_nascimento,\n",
        "  Plano = status_fidelidade,\n",
        "  Milhas_Acumuladas = milhas_acumuladas,\n",
        "  Gasto_Total = gasto_total\n",
        ")"
      ],
      "metadata": {
        "id": "32cce7LerkEQ"
      },
      "execution_count": 27,
      "outputs": []
    },
    {
      "cell_type": "code",
      "source": [
        "transacoes_passagens %>% head()"
      ],
      "metadata": {
        "colab": {
          "base_uri": "https://localhost:8080/",
          "height": 286
        },
        "id": "gPtVesEumYdr",
        "outputId": "b4a17da2-c665-4417-eeed-3407b5795843"
      },
      "execution_count": 28,
      "outputs": [
        {
          "output_type": "display_data",
          "data": {
            "text/html": [
              "<table class=\"dataframe\">\n",
              "<caption>A data.frame: 6 × 9</caption>\n",
              "<thead>\n",
              "\t<tr><th></th><th scope=col>ID_Cliente</th><th scope=col>Data_Compra_Passagem</th><th scope=col>Milhas_Utilizadas</th><th scope=col>Valor_Pago</th><th scope=col>Custo_Por_Milhas</th><th scope=col>Aniversario</th><th scope=col>Plano</th><th scope=col>Milhas_Acumuladas</th><th scope=col>Gasto_Total</th></tr>\n",
              "\t<tr><th></th><th scope=col>&lt;int&gt;</th><th scope=col>&lt;chr&gt;</th><th scope=col>&lt;int&gt;</th><th scope=col>&lt;dbl&gt;</th><th scope=col>&lt;dbl&gt;</th><th scope=col>&lt;chr&gt;</th><th scope=col>&lt;chr&gt;</th><th scope=col>&lt;int&gt;</th><th scope=col>&lt;dbl&gt;</th></tr>\n",
              "</thead>\n",
              "<tbody>\n",
              "\t<tr><th scope=row>1</th><td>967</td><td>2022-01-01</td><td>1198</td><td>1217.17</td><td>1.0160017</td><td>1963-12-21</td><td>Prata   </td><td>7635</td><td> 710.17</td></tr>\n",
              "\t<tr><th scope=row>2</th><td>747</td><td>2022-01-01</td><td>8451</td><td>1064.09</td><td>0.1259129</td><td>1967-04-16</td><td>Diamante</td><td>1952</td><td> 706.99</td></tr>\n",
              "\t<tr><th scope=row>3</th><td>237</td><td>2022-01-01</td><td>7996</td><td>1684.94</td><td>0.2107229</td><td>1961-07-17</td><td>Ouro    </td><td>5529</td><td>1002.03</td></tr>\n",
              "\t<tr><th scope=row>4</th><td>504</td><td>2022-01-02</td><td>6143</td><td> 692.94</td><td>0.1128016</td><td>1999-02-14</td><td>Diamante</td><td>8871</td><td> 922.06</td></tr>\n",
              "\t<tr><th scope=row>5</th><td>840</td><td>2022-01-02</td><td>5267</td><td>1496.54</td><td>0.2841352</td><td>1983-12-04</td><td>Ouro    </td><td>9589</td><td>1987.85</td></tr>\n",
              "\t<tr><th scope=row>6</th><td>396</td><td>2022-01-02</td><td>1929</td><td> 760.04</td><td>0.3940073</td><td>1972-06-30</td><td>Diamante</td><td>2142</td><td> 285.24</td></tr>\n",
              "</tbody>\n",
              "</table>\n"
            ],
            "text/markdown": "\nA data.frame: 6 × 9\n\n| <!--/--> | ID_Cliente &lt;int&gt; | Data_Compra_Passagem &lt;chr&gt; | Milhas_Utilizadas &lt;int&gt; | Valor_Pago &lt;dbl&gt; | Custo_Por_Milhas &lt;dbl&gt; | Aniversario &lt;chr&gt; | Plano &lt;chr&gt; | Milhas_Acumuladas &lt;int&gt; | Gasto_Total &lt;dbl&gt; |\n|---|---|---|---|---|---|---|---|---|---|\n| 1 | 967 | 2022-01-01 | 1198 | 1217.17 | 1.0160017 | 1963-12-21 | Prata    | 7635 |  710.17 |\n| 2 | 747 | 2022-01-01 | 8451 | 1064.09 | 0.1259129 | 1967-04-16 | Diamante | 1952 |  706.99 |\n| 3 | 237 | 2022-01-01 | 7996 | 1684.94 | 0.2107229 | 1961-07-17 | Ouro     | 5529 | 1002.03 |\n| 4 | 504 | 2022-01-02 | 6143 |  692.94 | 0.1128016 | 1999-02-14 | Diamante | 8871 |  922.06 |\n| 5 | 840 | 2022-01-02 | 5267 | 1496.54 | 0.2841352 | 1983-12-04 | Ouro     | 9589 | 1987.85 |\n| 6 | 396 | 2022-01-02 | 1929 |  760.04 | 0.3940073 | 1972-06-30 | Diamante | 2142 |  285.24 |\n\n",
            "text/latex": "A data.frame: 6 × 9\n\\begin{tabular}{r|lllllllll}\n  & ID\\_Cliente & Data\\_Compra\\_Passagem & Milhas\\_Utilizadas & Valor\\_Pago & Custo\\_Por\\_Milhas & Aniversario & Plano & Milhas\\_Acumuladas & Gasto\\_Total\\\\\n  & <int> & <chr> & <int> & <dbl> & <dbl> & <chr> & <chr> & <int> & <dbl>\\\\\n\\hline\n\t1 & 967 & 2022-01-01 & 1198 & 1217.17 & 1.0160017 & 1963-12-21 & Prata    & 7635 &  710.17\\\\\n\t2 & 747 & 2022-01-01 & 8451 & 1064.09 & 0.1259129 & 1967-04-16 & Diamante & 1952 &  706.99\\\\\n\t3 & 237 & 2022-01-01 & 7996 & 1684.94 & 0.2107229 & 1961-07-17 & Ouro     & 5529 & 1002.03\\\\\n\t4 & 504 & 2022-01-02 & 6143 &  692.94 & 0.1128016 & 1999-02-14 & Diamante & 8871 &  922.06\\\\\n\t5 & 840 & 2022-01-02 & 5267 & 1496.54 & 0.2841352 & 1983-12-04 & Ouro     & 9589 & 1987.85\\\\\n\t6 & 396 & 2022-01-02 & 1929 &  760.04 & 0.3940073 & 1972-06-30 & Diamante & 2142 &  285.24\\\\\n\\end{tabular}\n",
            "text/plain": [
              "  ID_Cliente Data_Compra_Passagem Milhas_Utilizadas Valor_Pago Custo_Por_Milhas\n",
              "1 967        2022-01-01           1198              1217.17    1.0160017       \n",
              "2 747        2022-01-01           8451              1064.09    0.1259129       \n",
              "3 237        2022-01-01           7996              1684.94    0.2107229       \n",
              "4 504        2022-01-02           6143               692.94    0.1128016       \n",
              "5 840        2022-01-02           5267              1496.54    0.2841352       \n",
              "6 396        2022-01-02           1929               760.04    0.3940073       \n",
              "  Aniversario Plano    Milhas_Acumuladas Gasto_Total\n",
              "1 1963-12-21  Prata    7635               710.17    \n",
              "2 1967-04-16  Diamante 1952               706.99    \n",
              "3 1961-07-17  Ouro     5529              1002.03    \n",
              "4 1999-02-14  Diamante 8871               922.06    \n",
              "5 1983-12-04  Ouro     9589              1987.85    \n",
              "6 1972-06-30  Diamante 2142               285.24    "
            ]
          },
          "metadata": {}
        }
      ]
    },
    {
      "cell_type": "code",
      "source": [
        "transacoes_passagens %>% count(ID_Cliente) %>% rename(Total_Compras = n) %>% arrange(desc(Total_Compras)) %>% head()"
      ],
      "metadata": {
        "colab": {
          "base_uri": "https://localhost:8080/",
          "height": 286
        },
        "id": "Rzk6yUNDmaei",
        "outputId": "98df6859-3a1c-4ce9-c44c-0ce9624f0c39"
      },
      "execution_count": 29,
      "outputs": [
        {
          "output_type": "display_data",
          "data": {
            "text/html": [
              "<table class=\"dataframe\">\n",
              "<caption>A data.frame: 6 × 2</caption>\n",
              "<thead>\n",
              "\t<tr><th></th><th scope=col>ID_Cliente</th><th scope=col>Total_Compras</th></tr>\n",
              "\t<tr><th></th><th scope=col>&lt;int&gt;</th><th scope=col>&lt;int&gt;</th></tr>\n",
              "</thead>\n",
              "<tbody>\n",
              "\t<tr><th scope=row>1</th><td>586</td><td>5</td></tr>\n",
              "\t<tr><th scope=row>2</th><td>544</td><td>4</td></tr>\n",
              "\t<tr><th scope=row>3</th><td>861</td><td>4</td></tr>\n",
              "\t<tr><th scope=row>4</th><td>175</td><td>3</td></tr>\n",
              "\t<tr><th scope=row>5</th><td>207</td><td>3</td></tr>\n",
              "\t<tr><th scope=row>6</th><td>239</td><td>3</td></tr>\n",
              "</tbody>\n",
              "</table>\n"
            ],
            "text/markdown": "\nA data.frame: 6 × 2\n\n| <!--/--> | ID_Cliente &lt;int&gt; | Total_Compras &lt;int&gt; |\n|---|---|---|\n| 1 | 586 | 5 |\n| 2 | 544 | 4 |\n| 3 | 861 | 4 |\n| 4 | 175 | 3 |\n| 5 | 207 | 3 |\n| 6 | 239 | 3 |\n\n",
            "text/latex": "A data.frame: 6 × 2\n\\begin{tabular}{r|ll}\n  & ID\\_Cliente & Total\\_Compras\\\\\n  & <int> & <int>\\\\\n\\hline\n\t1 & 586 & 5\\\\\n\t2 & 544 & 4\\\\\n\t3 & 861 & 4\\\\\n\t4 & 175 & 3\\\\\n\t5 & 207 & 3\\\\\n\t6 & 239 & 3\\\\\n\\end{tabular}\n",
            "text/plain": [
              "  ID_Cliente Total_Compras\n",
              "1 586        5            \n",
              "2 544        4            \n",
              "3 861        4            \n",
              "4 175        3            \n",
              "5 207        3            \n",
              "6 239        3            "
            ]
          },
          "metadata": {}
        }
      ]
    },
    {
      "cell_type": "code",
      "source": [
        "dados_milhas <- transacoes_passagens %>% select(ID_Cliente, Milhas_Utilizadas)"
      ],
      "metadata": {
        "id": "Le9z6kqHpF4F"
      },
      "execution_count": 30,
      "outputs": []
    },
    {
      "cell_type": "code",
      "source": [
        "total_milhas_por_cliente <- dados_milhas %>% group_by(ID_Cliente) %>% summarise(total_milhas = sum(Milhas_Utilizadas))"
      ],
      "metadata": {
        "id": "iKBaSl8xrE5X"
      },
      "execution_count": 31,
      "outputs": []
    },
    {
      "cell_type": "code",
      "source": [
        "total_milhas_por_cliente %>% arrange(desc(total_milhas)) %>% head()"
      ],
      "metadata": {
        "colab": {
          "base_uri": "https://localhost:8080/",
          "height": 286
        },
        "id": "YfVNiOGGrfxU",
        "outputId": "26df4999-4a7e-4688-cdf8-311c71b2f39e"
      },
      "execution_count": 32,
      "outputs": [
        {
          "output_type": "display_data",
          "data": {
            "text/html": [
              "<table class=\"dataframe\">\n",
              "<caption>A tibble: 6 × 2</caption>\n",
              "<thead>\n",
              "\t<tr><th scope=col>ID_Cliente</th><th scope=col>total_milhas</th></tr>\n",
              "\t<tr><th scope=col>&lt;int&gt;</th><th scope=col>&lt;int&gt;</th></tr>\n",
              "</thead>\n",
              "<tbody>\n",
              "\t<tr><td>544</td><td>28726</td></tr>\n",
              "\t<tr><td>572</td><td>22209</td></tr>\n",
              "\t<tr><td>890</td><td>19566</td></tr>\n",
              "\t<tr><td> 96</td><td>19047</td></tr>\n",
              "\t<tr><td>945</td><td>18514</td></tr>\n",
              "\t<tr><td> 32</td><td>18126</td></tr>\n",
              "</tbody>\n",
              "</table>\n"
            ],
            "text/markdown": "\nA tibble: 6 × 2\n\n| ID_Cliente &lt;int&gt; | total_milhas &lt;int&gt; |\n|---|---|\n| 544 | 28726 |\n| 572 | 22209 |\n| 890 | 19566 |\n|  96 | 19047 |\n| 945 | 18514 |\n|  32 | 18126 |\n\n",
            "text/latex": "A tibble: 6 × 2\n\\begin{tabular}{ll}\n ID\\_Cliente & total\\_milhas\\\\\n <int> & <int>\\\\\n\\hline\n\t 544 & 28726\\\\\n\t 572 & 22209\\\\\n\t 890 & 19566\\\\\n\t  96 & 19047\\\\\n\t 945 & 18514\\\\\n\t  32 & 18126\\\\\n\\end{tabular}\n",
            "text/plain": [
              "  ID_Cliente total_milhas\n",
              "1 544        28726       \n",
              "2 572        22209       \n",
              "3 890        19566       \n",
              "4  96        19047       \n",
              "5 945        18514       \n",
              "6  32        18126       "
            ]
          },
          "metadata": {}
        }
      ]
    },
    {
      "cell_type": "markdown",
      "source": [
        "Categorização de Clientes por Milhas Utilizadas:\n",
        "\n",
        "No dataset de transações, os clientes podem ser categorizados em três grupos com base no número de **Milhas Utilizadas** nas transações:\n",
        "\n",
        "- **Baixo**: Clientes que utilizaram **menos de 2.000 milhas**.\n",
        "- **Médio**: Clientes que utilizaram **entre 2.000 e 4.999 milhas**.\n",
        "- **Alto**: Clientes que utilizaram **5.000 milhas ou mais**.\n",
        "\n",
        "Essa categorização facilita a análise do perfil de consumo de milhas, ajudando a segmentar clientes de acordo com seu volume de uso."
      ],
      "metadata": {
        "id": "hVIib1p7tTYV"
      }
    },
    {
      "cell_type": "code",
      "source": [
        " transacoes_passagens <- transacoes_passagens %>% mutate(categoria_cliente = case_when(\n",
        "  Milhas_Utilizadas < 2000 ~ 'Baixo',\n",
        "  Milhas_Utilizadas < 5000 ~ 'Medio',\n",
        "  TRUE ~ 'Alto'\n",
        "))"
      ],
      "metadata": {
        "id": "7lJmYWG4tUwr"
      },
      "execution_count": 33,
      "outputs": []
    },
    {
      "cell_type": "code",
      "source": [
        "transacoes_passagens %>% head()"
      ],
      "metadata": {
        "colab": {
          "base_uri": "https://localhost:8080/",
          "height": 286
        },
        "id": "cEbkvKodwaM-",
        "outputId": "76ed98e9-8ada-4324-8b9d-b4dfd5ea56e6"
      },
      "execution_count": 34,
      "outputs": [
        {
          "output_type": "display_data",
          "data": {
            "text/html": [
              "<table class=\"dataframe\">\n",
              "<caption>A data.frame: 6 × 10</caption>\n",
              "<thead>\n",
              "\t<tr><th></th><th scope=col>ID_Cliente</th><th scope=col>Data_Compra_Passagem</th><th scope=col>Milhas_Utilizadas</th><th scope=col>Valor_Pago</th><th scope=col>Custo_Por_Milhas</th><th scope=col>Aniversario</th><th scope=col>Plano</th><th scope=col>Milhas_Acumuladas</th><th scope=col>Gasto_Total</th><th scope=col>categoria_cliente</th></tr>\n",
              "\t<tr><th></th><th scope=col>&lt;int&gt;</th><th scope=col>&lt;chr&gt;</th><th scope=col>&lt;int&gt;</th><th scope=col>&lt;dbl&gt;</th><th scope=col>&lt;dbl&gt;</th><th scope=col>&lt;chr&gt;</th><th scope=col>&lt;chr&gt;</th><th scope=col>&lt;int&gt;</th><th scope=col>&lt;dbl&gt;</th><th scope=col>&lt;chr&gt;</th></tr>\n",
              "</thead>\n",
              "<tbody>\n",
              "\t<tr><th scope=row>1</th><td>967</td><td>2022-01-01</td><td>1198</td><td>1217.17</td><td>1.0160017</td><td>1963-12-21</td><td>Prata   </td><td>7635</td><td> 710.17</td><td>Baixo</td></tr>\n",
              "\t<tr><th scope=row>2</th><td>747</td><td>2022-01-01</td><td>8451</td><td>1064.09</td><td>0.1259129</td><td>1967-04-16</td><td>Diamante</td><td>1952</td><td> 706.99</td><td>Alto </td></tr>\n",
              "\t<tr><th scope=row>3</th><td>237</td><td>2022-01-01</td><td>7996</td><td>1684.94</td><td>0.2107229</td><td>1961-07-17</td><td>Ouro    </td><td>5529</td><td>1002.03</td><td>Alto </td></tr>\n",
              "\t<tr><th scope=row>4</th><td>504</td><td>2022-01-02</td><td>6143</td><td> 692.94</td><td>0.1128016</td><td>1999-02-14</td><td>Diamante</td><td>8871</td><td> 922.06</td><td>Alto </td></tr>\n",
              "\t<tr><th scope=row>5</th><td>840</td><td>2022-01-02</td><td>5267</td><td>1496.54</td><td>0.2841352</td><td>1983-12-04</td><td>Ouro    </td><td>9589</td><td>1987.85</td><td>Alto </td></tr>\n",
              "\t<tr><th scope=row>6</th><td>396</td><td>2022-01-02</td><td>1929</td><td> 760.04</td><td>0.3940073</td><td>1972-06-30</td><td>Diamante</td><td>2142</td><td> 285.24</td><td>Baixo</td></tr>\n",
              "</tbody>\n",
              "</table>\n"
            ],
            "text/markdown": "\nA data.frame: 6 × 10\n\n| <!--/--> | ID_Cliente &lt;int&gt; | Data_Compra_Passagem &lt;chr&gt; | Milhas_Utilizadas &lt;int&gt; | Valor_Pago &lt;dbl&gt; | Custo_Por_Milhas &lt;dbl&gt; | Aniversario &lt;chr&gt; | Plano &lt;chr&gt; | Milhas_Acumuladas &lt;int&gt; | Gasto_Total &lt;dbl&gt; | categoria_cliente &lt;chr&gt; |\n|---|---|---|---|---|---|---|---|---|---|---|\n| 1 | 967 | 2022-01-01 | 1198 | 1217.17 | 1.0160017 | 1963-12-21 | Prata    | 7635 |  710.17 | Baixo |\n| 2 | 747 | 2022-01-01 | 8451 | 1064.09 | 0.1259129 | 1967-04-16 | Diamante | 1952 |  706.99 | Alto  |\n| 3 | 237 | 2022-01-01 | 7996 | 1684.94 | 0.2107229 | 1961-07-17 | Ouro     | 5529 | 1002.03 | Alto  |\n| 4 | 504 | 2022-01-02 | 6143 |  692.94 | 0.1128016 | 1999-02-14 | Diamante | 8871 |  922.06 | Alto  |\n| 5 | 840 | 2022-01-02 | 5267 | 1496.54 | 0.2841352 | 1983-12-04 | Ouro     | 9589 | 1987.85 | Alto  |\n| 6 | 396 | 2022-01-02 | 1929 |  760.04 | 0.3940073 | 1972-06-30 | Diamante | 2142 |  285.24 | Baixo |\n\n",
            "text/latex": "A data.frame: 6 × 10\n\\begin{tabular}{r|llllllllll}\n  & ID\\_Cliente & Data\\_Compra\\_Passagem & Milhas\\_Utilizadas & Valor\\_Pago & Custo\\_Por\\_Milhas & Aniversario & Plano & Milhas\\_Acumuladas & Gasto\\_Total & categoria\\_cliente\\\\\n  & <int> & <chr> & <int> & <dbl> & <dbl> & <chr> & <chr> & <int> & <dbl> & <chr>\\\\\n\\hline\n\t1 & 967 & 2022-01-01 & 1198 & 1217.17 & 1.0160017 & 1963-12-21 & Prata    & 7635 &  710.17 & Baixo\\\\\n\t2 & 747 & 2022-01-01 & 8451 & 1064.09 & 0.1259129 & 1967-04-16 & Diamante & 1952 &  706.99 & Alto \\\\\n\t3 & 237 & 2022-01-01 & 7996 & 1684.94 & 0.2107229 & 1961-07-17 & Ouro     & 5529 & 1002.03 & Alto \\\\\n\t4 & 504 & 2022-01-02 & 6143 &  692.94 & 0.1128016 & 1999-02-14 & Diamante & 8871 &  922.06 & Alto \\\\\n\t5 & 840 & 2022-01-02 & 5267 & 1496.54 & 0.2841352 & 1983-12-04 & Ouro     & 9589 & 1987.85 & Alto \\\\\n\t6 & 396 & 2022-01-02 & 1929 &  760.04 & 0.3940073 & 1972-06-30 & Diamante & 2142 &  285.24 & Baixo\\\\\n\\end{tabular}\n",
            "text/plain": [
              "  ID_Cliente Data_Compra_Passagem Milhas_Utilizadas Valor_Pago Custo_Por_Milhas\n",
              "1 967        2022-01-01           1198              1217.17    1.0160017       \n",
              "2 747        2022-01-01           8451              1064.09    0.1259129       \n",
              "3 237        2022-01-01           7996              1684.94    0.2107229       \n",
              "4 504        2022-01-02           6143               692.94    0.1128016       \n",
              "5 840        2022-01-02           5267              1496.54    0.2841352       \n",
              "6 396        2022-01-02           1929               760.04    0.3940073       \n",
              "  Aniversario Plano    Milhas_Acumuladas Gasto_Total categoria_cliente\n",
              "1 1963-12-21  Prata    7635               710.17     Baixo            \n",
              "2 1967-04-16  Diamante 1952               706.99     Alto             \n",
              "3 1961-07-17  Ouro     5529              1002.03     Alto             \n",
              "4 1999-02-14  Diamante 8871               922.06     Alto             \n",
              "5 1983-12-04  Ouro     9589              1987.85     Alto             \n",
              "6 1972-06-30  Diamante 2142               285.24     Baixo            "
            ]
          },
          "metadata": {}
        }
      ]
    },
    {
      "cell_type": "code",
      "source": [
        "transacoes_passagens <- transacoes_passagens %>%\n",
        "                        arrange(ID_Cliente, Data_Compra_Passagem) %>%\n",
        "                        group_by(ID_Cliente) %>%\n",
        "                        mutate(\n",
        "                          diferenca_milhas = Milhas_Utilizadas - lag(Milhas_Utilizadas),\n",
        "                          diferenca_valor_futuro = lead(Milhas_Utilizadas)\n",
        "                        ) %>%\n",
        "                        ungroup()"
      ],
      "metadata": {
        "id": "-oS_zvLbxBT_"
      },
      "execution_count": 35,
      "outputs": []
    },
    {
      "cell_type": "code",
      "source": [
        "transacoes_passagens %>% head()"
      ],
      "metadata": {
        "colab": {
          "base_uri": "https://localhost:8080/",
          "height": 306
        },
        "id": "Dsy70xnzy0N9",
        "outputId": "6f934a39-9e38-444c-c930-e81c5d52849a"
      },
      "execution_count": 36,
      "outputs": [
        {
          "output_type": "display_data",
          "data": {
            "text/html": [
              "<table class=\"dataframe\">\n",
              "<caption>A tibble: 6 × 12</caption>\n",
              "<thead>\n",
              "\t<tr><th scope=col>ID_Cliente</th><th scope=col>Data_Compra_Passagem</th><th scope=col>Milhas_Utilizadas</th><th scope=col>Valor_Pago</th><th scope=col>Custo_Por_Milhas</th><th scope=col>Aniversario</th><th scope=col>Plano</th><th scope=col>Milhas_Acumuladas</th><th scope=col>Gasto_Total</th><th scope=col>categoria_cliente</th><th scope=col>diferenca_milhas</th><th scope=col>diferenca_valor_futuro</th></tr>\n",
              "\t<tr><th scope=col>&lt;int&gt;</th><th scope=col>&lt;chr&gt;</th><th scope=col>&lt;int&gt;</th><th scope=col>&lt;dbl&gt;</th><th scope=col>&lt;dbl&gt;</th><th scope=col>&lt;chr&gt;</th><th scope=col>&lt;chr&gt;</th><th scope=col>&lt;int&gt;</th><th scope=col>&lt;dbl&gt;</th><th scope=col>&lt;chr&gt;</th><th scope=col>&lt;int&gt;</th><th scope=col>&lt;int&gt;</th></tr>\n",
              "</thead>\n",
              "<tbody>\n",
              "\t<tr><td> 3</td><td>2022-03-24</td><td>1023</td><td>1588.11</td><td>1.55240469</td><td>1994-07-18</td><td>Diamante</td><td> 917</td><td> 519.16</td><td>Baixo</td><td>   NA</td><td>  NA</td></tr>\n",
              "\t<tr><td> 7</td><td>2022-09-16</td><td>9449</td><td>1906.01</td><td>0.20171553</td><td>1972-08-06</td><td>Diamante</td><td>2583</td><td> 924.60</td><td>Alto </td><td>   NA</td><td>4700</td></tr>\n",
              "\t<tr><td> 7</td><td>2022-12-07</td><td>4700</td><td>1285.88</td><td>0.27359149</td><td>1972-08-06</td><td>Diamante</td><td>2583</td><td> 924.60</td><td>Medio</td><td>-4749</td><td>  NA</td></tr>\n",
              "\t<tr><td>10</td><td>2022-06-07</td><td>6537</td><td> 469.28</td><td>0.07178828</td><td>1980-03-12</td><td>Bronze  </td><td>3829</td><td> 595.78</td><td>Alto </td><td>   NA</td><td>  NA</td></tr>\n",
              "\t<tr><td>12</td><td>2022-10-29</td><td>9312</td><td> 570.34</td><td>0.06124785</td><td>1978-10-09</td><td>Diamante</td><td>8857</td><td>1310.66</td><td>Alto </td><td>   NA</td><td>  NA</td></tr>\n",
              "\t<tr><td>13</td><td>2022-09-07</td><td>4123</td><td> 240.23</td><td>0.05826583</td><td>1996-12-31</td><td>Ouro    </td><td>2228</td><td>1316.16</td><td>Medio</td><td>   NA</td><td>  NA</td></tr>\n",
              "</tbody>\n",
              "</table>\n"
            ],
            "text/markdown": "\nA tibble: 6 × 12\n\n| ID_Cliente &lt;int&gt; | Data_Compra_Passagem &lt;chr&gt; | Milhas_Utilizadas &lt;int&gt; | Valor_Pago &lt;dbl&gt; | Custo_Por_Milhas &lt;dbl&gt; | Aniversario &lt;chr&gt; | Plano &lt;chr&gt; | Milhas_Acumuladas &lt;int&gt; | Gasto_Total &lt;dbl&gt; | categoria_cliente &lt;chr&gt; | diferenca_milhas &lt;int&gt; | diferenca_valor_futuro &lt;int&gt; |\n|---|---|---|---|---|---|---|---|---|---|---|---|\n|  3 | 2022-03-24 | 1023 | 1588.11 | 1.55240469 | 1994-07-18 | Diamante |  917 |  519.16 | Baixo |    NA |   NA |\n|  7 | 2022-09-16 | 9449 | 1906.01 | 0.20171553 | 1972-08-06 | Diamante | 2583 |  924.60 | Alto  |    NA | 4700 |\n|  7 | 2022-12-07 | 4700 | 1285.88 | 0.27359149 | 1972-08-06 | Diamante | 2583 |  924.60 | Medio | -4749 |   NA |\n| 10 | 2022-06-07 | 6537 |  469.28 | 0.07178828 | 1980-03-12 | Bronze   | 3829 |  595.78 | Alto  |    NA |   NA |\n| 12 | 2022-10-29 | 9312 |  570.34 | 0.06124785 | 1978-10-09 | Diamante | 8857 | 1310.66 | Alto  |    NA |   NA |\n| 13 | 2022-09-07 | 4123 |  240.23 | 0.05826583 | 1996-12-31 | Ouro     | 2228 | 1316.16 | Medio |    NA |   NA |\n\n",
            "text/latex": "A tibble: 6 × 12\n\\begin{tabular}{llllllllllll}\n ID\\_Cliente & Data\\_Compra\\_Passagem & Milhas\\_Utilizadas & Valor\\_Pago & Custo\\_Por\\_Milhas & Aniversario & Plano & Milhas\\_Acumuladas & Gasto\\_Total & categoria\\_cliente & diferenca\\_milhas & diferenca\\_valor\\_futuro\\\\\n <int> & <chr> & <int> & <dbl> & <dbl> & <chr> & <chr> & <int> & <dbl> & <chr> & <int> & <int>\\\\\n\\hline\n\t  3 & 2022-03-24 & 1023 & 1588.11 & 1.55240469 & 1994-07-18 & Diamante &  917 &  519.16 & Baixo &    NA &   NA\\\\\n\t  7 & 2022-09-16 & 9449 & 1906.01 & 0.20171553 & 1972-08-06 & Diamante & 2583 &  924.60 & Alto  &    NA & 4700\\\\\n\t  7 & 2022-12-07 & 4700 & 1285.88 & 0.27359149 & 1972-08-06 & Diamante & 2583 &  924.60 & Medio & -4749 &   NA\\\\\n\t 10 & 2022-06-07 & 6537 &  469.28 & 0.07178828 & 1980-03-12 & Bronze   & 3829 &  595.78 & Alto  &    NA &   NA\\\\\n\t 12 & 2022-10-29 & 9312 &  570.34 & 0.06124785 & 1978-10-09 & Diamante & 8857 & 1310.66 & Alto  &    NA &   NA\\\\\n\t 13 & 2022-09-07 & 4123 &  240.23 & 0.05826583 & 1996-12-31 & Ouro     & 2228 & 1316.16 & Medio &    NA &   NA\\\\\n\\end{tabular}\n",
            "text/plain": [
              "  ID_Cliente Data_Compra_Passagem Milhas_Utilizadas Valor_Pago Custo_Por_Milhas\n",
              "1  3         2022-03-24           1023              1588.11    1.55240469      \n",
              "2  7         2022-09-16           9449              1906.01    0.20171553      \n",
              "3  7         2022-12-07           4700              1285.88    0.27359149      \n",
              "4 10         2022-06-07           6537               469.28    0.07178828      \n",
              "5 12         2022-10-29           9312               570.34    0.06124785      \n",
              "6 13         2022-09-07           4123               240.23    0.05826583      \n",
              "  Aniversario Plano    Milhas_Acumuladas Gasto_Total categoria_cliente\n",
              "1 1994-07-18  Diamante  917               519.16     Baixo            \n",
              "2 1972-08-06  Diamante 2583               924.60     Alto             \n",
              "3 1972-08-06  Diamante 2583               924.60     Medio            \n",
              "4 1980-03-12  Bronze   3829               595.78     Alto             \n",
              "5 1978-10-09  Diamante 8857              1310.66     Alto             \n",
              "6 1996-12-31  Ouro     2228              1316.16     Medio            \n",
              "  diferenca_milhas diferenca_valor_futuro\n",
              "1    NA              NA                  \n",
              "2    NA            4700                  \n",
              "3 -4749              NA                  \n",
              "4    NA              NA                  \n",
              "5    NA              NA                  \n",
              "6    NA              NA                  "
            ]
          },
          "metadata": {}
        }
      ]
    },
    {
      "cell_type": "code",
      "source": [
        "transacoes_passagens <- transacoes_passagens %>%\n",
        "                                            mutate (\n",
        "                                              diferenca_milhas = coalesce(diferenca_milhas, 0),\n",
        "                                              diferenca_valor_futuro = coalesce(diferenca_valor_futuro, 0)\n",
        "                                            )"
      ],
      "metadata": {
        "id": "XCLf_AjwzAwZ"
      },
      "execution_count": 37,
      "outputs": []
    },
    {
      "cell_type": "code",
      "source": [
        "transacoes_passagens %>% head()"
      ],
      "metadata": {
        "colab": {
          "base_uri": "https://localhost:8080/",
          "height": 306
        },
        "id": "nGxnokzYD8h4",
        "outputId": "482368c7-cc12-41e8-f5dc-0d4de54fd569"
      },
      "execution_count": 38,
      "outputs": [
        {
          "output_type": "display_data",
          "data": {
            "text/html": [
              "<table class=\"dataframe\">\n",
              "<caption>A tibble: 6 × 12</caption>\n",
              "<thead>\n",
              "\t<tr><th scope=col>ID_Cliente</th><th scope=col>Data_Compra_Passagem</th><th scope=col>Milhas_Utilizadas</th><th scope=col>Valor_Pago</th><th scope=col>Custo_Por_Milhas</th><th scope=col>Aniversario</th><th scope=col>Plano</th><th scope=col>Milhas_Acumuladas</th><th scope=col>Gasto_Total</th><th scope=col>categoria_cliente</th><th scope=col>diferenca_milhas</th><th scope=col>diferenca_valor_futuro</th></tr>\n",
              "\t<tr><th scope=col>&lt;int&gt;</th><th scope=col>&lt;chr&gt;</th><th scope=col>&lt;int&gt;</th><th scope=col>&lt;dbl&gt;</th><th scope=col>&lt;dbl&gt;</th><th scope=col>&lt;chr&gt;</th><th scope=col>&lt;chr&gt;</th><th scope=col>&lt;int&gt;</th><th scope=col>&lt;dbl&gt;</th><th scope=col>&lt;chr&gt;</th><th scope=col>&lt;dbl&gt;</th><th scope=col>&lt;dbl&gt;</th></tr>\n",
              "</thead>\n",
              "<tbody>\n",
              "\t<tr><td> 3</td><td>2022-03-24</td><td>1023</td><td>1588.11</td><td>1.55240469</td><td>1994-07-18</td><td>Diamante</td><td> 917</td><td> 519.16</td><td>Baixo</td><td>    0</td><td>   0</td></tr>\n",
              "\t<tr><td> 7</td><td>2022-09-16</td><td>9449</td><td>1906.01</td><td>0.20171553</td><td>1972-08-06</td><td>Diamante</td><td>2583</td><td> 924.60</td><td>Alto </td><td>    0</td><td>4700</td></tr>\n",
              "\t<tr><td> 7</td><td>2022-12-07</td><td>4700</td><td>1285.88</td><td>0.27359149</td><td>1972-08-06</td><td>Diamante</td><td>2583</td><td> 924.60</td><td>Medio</td><td>-4749</td><td>   0</td></tr>\n",
              "\t<tr><td>10</td><td>2022-06-07</td><td>6537</td><td> 469.28</td><td>0.07178828</td><td>1980-03-12</td><td>Bronze  </td><td>3829</td><td> 595.78</td><td>Alto </td><td>    0</td><td>   0</td></tr>\n",
              "\t<tr><td>12</td><td>2022-10-29</td><td>9312</td><td> 570.34</td><td>0.06124785</td><td>1978-10-09</td><td>Diamante</td><td>8857</td><td>1310.66</td><td>Alto </td><td>    0</td><td>   0</td></tr>\n",
              "\t<tr><td>13</td><td>2022-09-07</td><td>4123</td><td> 240.23</td><td>0.05826583</td><td>1996-12-31</td><td>Ouro    </td><td>2228</td><td>1316.16</td><td>Medio</td><td>    0</td><td>   0</td></tr>\n",
              "</tbody>\n",
              "</table>\n"
            ],
            "text/markdown": "\nA tibble: 6 × 12\n\n| ID_Cliente &lt;int&gt; | Data_Compra_Passagem &lt;chr&gt; | Milhas_Utilizadas &lt;int&gt; | Valor_Pago &lt;dbl&gt; | Custo_Por_Milhas &lt;dbl&gt; | Aniversario &lt;chr&gt; | Plano &lt;chr&gt; | Milhas_Acumuladas &lt;int&gt; | Gasto_Total &lt;dbl&gt; | categoria_cliente &lt;chr&gt; | diferenca_milhas &lt;dbl&gt; | diferenca_valor_futuro &lt;dbl&gt; |\n|---|---|---|---|---|---|---|---|---|---|---|---|\n|  3 | 2022-03-24 | 1023 | 1588.11 | 1.55240469 | 1994-07-18 | Diamante |  917 |  519.16 | Baixo |     0 |    0 |\n|  7 | 2022-09-16 | 9449 | 1906.01 | 0.20171553 | 1972-08-06 | Diamante | 2583 |  924.60 | Alto  |     0 | 4700 |\n|  7 | 2022-12-07 | 4700 | 1285.88 | 0.27359149 | 1972-08-06 | Diamante | 2583 |  924.60 | Medio | -4749 |    0 |\n| 10 | 2022-06-07 | 6537 |  469.28 | 0.07178828 | 1980-03-12 | Bronze   | 3829 |  595.78 | Alto  |     0 |    0 |\n| 12 | 2022-10-29 | 9312 |  570.34 | 0.06124785 | 1978-10-09 | Diamante | 8857 | 1310.66 | Alto  |     0 |    0 |\n| 13 | 2022-09-07 | 4123 |  240.23 | 0.05826583 | 1996-12-31 | Ouro     | 2228 | 1316.16 | Medio |     0 |    0 |\n\n",
            "text/latex": "A tibble: 6 × 12\n\\begin{tabular}{llllllllllll}\n ID\\_Cliente & Data\\_Compra\\_Passagem & Milhas\\_Utilizadas & Valor\\_Pago & Custo\\_Por\\_Milhas & Aniversario & Plano & Milhas\\_Acumuladas & Gasto\\_Total & categoria\\_cliente & diferenca\\_milhas & diferenca\\_valor\\_futuro\\\\\n <int> & <chr> & <int> & <dbl> & <dbl> & <chr> & <chr> & <int> & <dbl> & <chr> & <dbl> & <dbl>\\\\\n\\hline\n\t  3 & 2022-03-24 & 1023 & 1588.11 & 1.55240469 & 1994-07-18 & Diamante &  917 &  519.16 & Baixo &     0 &    0\\\\\n\t  7 & 2022-09-16 & 9449 & 1906.01 & 0.20171553 & 1972-08-06 & Diamante & 2583 &  924.60 & Alto  &     0 & 4700\\\\\n\t  7 & 2022-12-07 & 4700 & 1285.88 & 0.27359149 & 1972-08-06 & Diamante & 2583 &  924.60 & Medio & -4749 &    0\\\\\n\t 10 & 2022-06-07 & 6537 &  469.28 & 0.07178828 & 1980-03-12 & Bronze   & 3829 &  595.78 & Alto  &     0 &    0\\\\\n\t 12 & 2022-10-29 & 9312 &  570.34 & 0.06124785 & 1978-10-09 & Diamante & 8857 & 1310.66 & Alto  &     0 &    0\\\\\n\t 13 & 2022-09-07 & 4123 &  240.23 & 0.05826583 & 1996-12-31 & Ouro     & 2228 & 1316.16 & Medio &     0 &    0\\\\\n\\end{tabular}\n",
            "text/plain": [
              "  ID_Cliente Data_Compra_Passagem Milhas_Utilizadas Valor_Pago Custo_Por_Milhas\n",
              "1  3         2022-03-24           1023              1588.11    1.55240469      \n",
              "2  7         2022-09-16           9449              1906.01    0.20171553      \n",
              "3  7         2022-12-07           4700              1285.88    0.27359149      \n",
              "4 10         2022-06-07           6537               469.28    0.07178828      \n",
              "5 12         2022-10-29           9312               570.34    0.06124785      \n",
              "6 13         2022-09-07           4123               240.23    0.05826583      \n",
              "  Aniversario Plano    Milhas_Acumuladas Gasto_Total categoria_cliente\n",
              "1 1994-07-18  Diamante  917               519.16     Baixo            \n",
              "2 1972-08-06  Diamante 2583               924.60     Alto             \n",
              "3 1972-08-06  Diamante 2583               924.60     Medio            \n",
              "4 1980-03-12  Bronze   3829               595.78     Alto             \n",
              "5 1978-10-09  Diamante 8857              1310.66     Alto             \n",
              "6 1996-12-31  Ouro     2228              1316.16     Medio            \n",
              "  diferenca_milhas diferenca_valor_futuro\n",
              "1     0               0                  \n",
              "2     0            4700                  \n",
              "3 -4749               0                  \n",
              "4     0               0                  \n",
              "5     0               0                  \n",
              "6     0               0                  "
            ]
          },
          "metadata": {}
        }
      ]
    },
    {
      "cell_type": "code",
      "source": [
        "transacoes_passagens <- transacoes_passagens %>% mutate (categoria_cliente =\n",
        "                                            recode(categoria_cliente,\n",
        "                                              'Baixo' = \"Iniciante\",\n",
        "                                              \"Medio\" = \"Intermediário\",\n",
        "                                              'Alto' = 'Avançado'\n",
        "                                          ))"
      ],
      "metadata": {
        "id": "FiWBh-yPD_IY"
      },
      "execution_count": 39,
      "outputs": []
    },
    {
      "cell_type": "code",
      "source": [
        "transacoes_passagens %>% head(10)"
      ],
      "metadata": {
        "colab": {
          "base_uri": "https://localhost:8080/",
          "height": 432
        },
        "id": "_9GWmW6rIZhh",
        "outputId": "685ceb06-0c1d-449f-9734-2713eb6bbd2c"
      },
      "execution_count": 40,
      "outputs": [
        {
          "output_type": "display_data",
          "data": {
            "text/html": [
              "<table class=\"dataframe\">\n",
              "<caption>A tibble: 10 × 12</caption>\n",
              "<thead>\n",
              "\t<tr><th scope=col>ID_Cliente</th><th scope=col>Data_Compra_Passagem</th><th scope=col>Milhas_Utilizadas</th><th scope=col>Valor_Pago</th><th scope=col>Custo_Por_Milhas</th><th scope=col>Aniversario</th><th scope=col>Plano</th><th scope=col>Milhas_Acumuladas</th><th scope=col>Gasto_Total</th><th scope=col>categoria_cliente</th><th scope=col>diferenca_milhas</th><th scope=col>diferenca_valor_futuro</th></tr>\n",
              "\t<tr><th scope=col>&lt;int&gt;</th><th scope=col>&lt;chr&gt;</th><th scope=col>&lt;int&gt;</th><th scope=col>&lt;dbl&gt;</th><th scope=col>&lt;dbl&gt;</th><th scope=col>&lt;chr&gt;</th><th scope=col>&lt;chr&gt;</th><th scope=col>&lt;int&gt;</th><th scope=col>&lt;dbl&gt;</th><th scope=col>&lt;chr&gt;</th><th scope=col>&lt;dbl&gt;</th><th scope=col>&lt;dbl&gt;</th></tr>\n",
              "</thead>\n",
              "<tbody>\n",
              "\t<tr><td> 3</td><td>2022-03-24</td><td>1023</td><td>1588.11</td><td>1.55240469</td><td>1994-07-18</td><td>Diamante</td><td> 917</td><td> 519.16</td><td>Iniciante    </td><td>    0</td><td>   0</td></tr>\n",
              "\t<tr><td> 7</td><td>2022-09-16</td><td>9449</td><td>1906.01</td><td>0.20171553</td><td>1972-08-06</td><td>Diamante</td><td>2583</td><td> 924.60</td><td>Avançado     </td><td>    0</td><td>4700</td></tr>\n",
              "\t<tr><td> 7</td><td>2022-12-07</td><td>4700</td><td>1285.88</td><td>0.27359149</td><td>1972-08-06</td><td>Diamante</td><td>2583</td><td> 924.60</td><td>Intermediário</td><td>-4749</td><td>   0</td></tr>\n",
              "\t<tr><td>10</td><td>2022-06-07</td><td>6537</td><td> 469.28</td><td>0.07178828</td><td>1980-03-12</td><td>Bronze  </td><td>3829</td><td> 595.78</td><td>Avançado     </td><td>    0</td><td>   0</td></tr>\n",
              "\t<tr><td>12</td><td>2022-10-29</td><td>9312</td><td> 570.34</td><td>0.06124785</td><td>1978-10-09</td><td>Diamante</td><td>8857</td><td>1310.66</td><td>Avançado     </td><td>    0</td><td>   0</td></tr>\n",
              "\t<tr><td>13</td><td>2022-09-07</td><td>4123</td><td> 240.23</td><td>0.05826583</td><td>1996-12-31</td><td>Ouro    </td><td>2228</td><td>1316.16</td><td>Intermediário</td><td>    0</td><td>   0</td></tr>\n",
              "\t<tr><td>15</td><td>2022-07-19</td><td>7541</td><td>1377.39</td><td>0.18265349</td><td>1964-03-25</td><td>Ouro    </td><td>1513</td><td> 183.81</td><td>Avançado     </td><td>    0</td><td>   0</td></tr>\n",
              "\t<tr><td>23</td><td>2022-03-04</td><td>6121</td><td>1092.10</td><td>0.17841856</td><td>1973-01-16</td><td>Prata   </td><td>6208</td><td> 720.28</td><td>Avançado     </td><td>    0</td><td>   0</td></tr>\n",
              "\t<tr><td>26</td><td>2022-03-11</td><td>8204</td><td>1558.04</td><td>0.18991224</td><td>1975-02-07</td><td>Bronze  </td><td>3053</td><td>1170.27</td><td>Avançado     </td><td>    0</td><td>8161</td></tr>\n",
              "\t<tr><td>26</td><td>2022-04-04</td><td>8161</td><td> 423.71</td><td>0.05191888</td><td>1975-02-07</td><td>Bronze  </td><td>3053</td><td>1170.27</td><td>Avançado     </td><td>  -43</td><td>   0</td></tr>\n",
              "</tbody>\n",
              "</table>\n"
            ],
            "text/markdown": "\nA tibble: 10 × 12\n\n| ID_Cliente &lt;int&gt; | Data_Compra_Passagem &lt;chr&gt; | Milhas_Utilizadas &lt;int&gt; | Valor_Pago &lt;dbl&gt; | Custo_Por_Milhas &lt;dbl&gt; | Aniversario &lt;chr&gt; | Plano &lt;chr&gt; | Milhas_Acumuladas &lt;int&gt; | Gasto_Total &lt;dbl&gt; | categoria_cliente &lt;chr&gt; | diferenca_milhas &lt;dbl&gt; | diferenca_valor_futuro &lt;dbl&gt; |\n|---|---|---|---|---|---|---|---|---|---|---|---|\n|  3 | 2022-03-24 | 1023 | 1588.11 | 1.55240469 | 1994-07-18 | Diamante |  917 |  519.16 | Iniciante     |     0 |    0 |\n|  7 | 2022-09-16 | 9449 | 1906.01 | 0.20171553 | 1972-08-06 | Diamante | 2583 |  924.60 | Avançado      |     0 | 4700 |\n|  7 | 2022-12-07 | 4700 | 1285.88 | 0.27359149 | 1972-08-06 | Diamante | 2583 |  924.60 | Intermediário | -4749 |    0 |\n| 10 | 2022-06-07 | 6537 |  469.28 | 0.07178828 | 1980-03-12 | Bronze   | 3829 |  595.78 | Avançado      |     0 |    0 |\n| 12 | 2022-10-29 | 9312 |  570.34 | 0.06124785 | 1978-10-09 | Diamante | 8857 | 1310.66 | Avançado      |     0 |    0 |\n| 13 | 2022-09-07 | 4123 |  240.23 | 0.05826583 | 1996-12-31 | Ouro     | 2228 | 1316.16 | Intermediário |     0 |    0 |\n| 15 | 2022-07-19 | 7541 | 1377.39 | 0.18265349 | 1964-03-25 | Ouro     | 1513 |  183.81 | Avançado      |     0 |    0 |\n| 23 | 2022-03-04 | 6121 | 1092.10 | 0.17841856 | 1973-01-16 | Prata    | 6208 |  720.28 | Avançado      |     0 |    0 |\n| 26 | 2022-03-11 | 8204 | 1558.04 | 0.18991224 | 1975-02-07 | Bronze   | 3053 | 1170.27 | Avançado      |     0 | 8161 |\n| 26 | 2022-04-04 | 8161 |  423.71 | 0.05191888 | 1975-02-07 | Bronze   | 3053 | 1170.27 | Avançado      |   -43 |    0 |\n\n",
            "text/latex": "A tibble: 10 × 12\n\\begin{tabular}{llllllllllll}\n ID\\_Cliente & Data\\_Compra\\_Passagem & Milhas\\_Utilizadas & Valor\\_Pago & Custo\\_Por\\_Milhas & Aniversario & Plano & Milhas\\_Acumuladas & Gasto\\_Total & categoria\\_cliente & diferenca\\_milhas & diferenca\\_valor\\_futuro\\\\\n <int> & <chr> & <int> & <dbl> & <dbl> & <chr> & <chr> & <int> & <dbl> & <chr> & <dbl> & <dbl>\\\\\n\\hline\n\t  3 & 2022-03-24 & 1023 & 1588.11 & 1.55240469 & 1994-07-18 & Diamante &  917 &  519.16 & Iniciante     &     0 &    0\\\\\n\t  7 & 2022-09-16 & 9449 & 1906.01 & 0.20171553 & 1972-08-06 & Diamante & 2583 &  924.60 & Avançado      &     0 & 4700\\\\\n\t  7 & 2022-12-07 & 4700 & 1285.88 & 0.27359149 & 1972-08-06 & Diamante & 2583 &  924.60 & Intermediário & -4749 &    0\\\\\n\t 10 & 2022-06-07 & 6537 &  469.28 & 0.07178828 & 1980-03-12 & Bronze   & 3829 &  595.78 & Avançado      &     0 &    0\\\\\n\t 12 & 2022-10-29 & 9312 &  570.34 & 0.06124785 & 1978-10-09 & Diamante & 8857 & 1310.66 & Avançado      &     0 &    0\\\\\n\t 13 & 2022-09-07 & 4123 &  240.23 & 0.05826583 & 1996-12-31 & Ouro     & 2228 & 1316.16 & Intermediário &     0 &    0\\\\\n\t 15 & 2022-07-19 & 7541 & 1377.39 & 0.18265349 & 1964-03-25 & Ouro     & 1513 &  183.81 & Avançado      &     0 &    0\\\\\n\t 23 & 2022-03-04 & 6121 & 1092.10 & 0.17841856 & 1973-01-16 & Prata    & 6208 &  720.28 & Avançado      &     0 &    0\\\\\n\t 26 & 2022-03-11 & 8204 & 1558.04 & 0.18991224 & 1975-02-07 & Bronze   & 3053 & 1170.27 & Avançado      &     0 & 8161\\\\\n\t 26 & 2022-04-04 & 8161 &  423.71 & 0.05191888 & 1975-02-07 & Bronze   & 3053 & 1170.27 & Avançado      &   -43 &    0\\\\\n\\end{tabular}\n",
            "text/plain": [
              "   ID_Cliente Data_Compra_Passagem Milhas_Utilizadas Valor_Pago\n",
              "1   3         2022-03-24           1023              1588.11   \n",
              "2   7         2022-09-16           9449              1906.01   \n",
              "3   7         2022-12-07           4700              1285.88   \n",
              "4  10         2022-06-07           6537               469.28   \n",
              "5  12         2022-10-29           9312               570.34   \n",
              "6  13         2022-09-07           4123               240.23   \n",
              "7  15         2022-07-19           7541              1377.39   \n",
              "8  23         2022-03-04           6121              1092.10   \n",
              "9  26         2022-03-11           8204              1558.04   \n",
              "10 26         2022-04-04           8161               423.71   \n",
              "   Custo_Por_Milhas Aniversario Plano    Milhas_Acumuladas Gasto_Total\n",
              "1  1.55240469       1994-07-18  Diamante  917               519.16    \n",
              "2  0.20171553       1972-08-06  Diamante 2583               924.60    \n",
              "3  0.27359149       1972-08-06  Diamante 2583               924.60    \n",
              "4  0.07178828       1980-03-12  Bronze   3829               595.78    \n",
              "5  0.06124785       1978-10-09  Diamante 8857              1310.66    \n",
              "6  0.05826583       1996-12-31  Ouro     2228              1316.16    \n",
              "7  0.18265349       1964-03-25  Ouro     1513               183.81    \n",
              "8  0.17841856       1973-01-16  Prata    6208               720.28    \n",
              "9  0.18991224       1975-02-07  Bronze   3053              1170.27    \n",
              "10 0.05191888       1975-02-07  Bronze   3053              1170.27    \n",
              "   categoria_cliente diferenca_milhas diferenca_valor_futuro\n",
              "1  Iniciante             0               0                  \n",
              "2  Avançado              0            4700                  \n",
              "3  Intermediário     -4749               0                  \n",
              "4  Avançado              0               0                  \n",
              "5  Avançado              0               0                  \n",
              "6  Intermediário         0               0                  \n",
              "7  Avançado              0               0                  \n",
              "8  Avançado              0               0                  \n",
              "9  Avançado              0            8161                  \n",
              "10 Avançado            -43               0                  "
            ]
          },
          "metadata": {}
        }
      ]
    },
    {
      "cell_type": "code",
      "source": [
        "transacoes_passagens %>% select(ID_Cliente, Milhas_Utilizadas, Milhas_Acumuladas) %>% head()"
      ],
      "metadata": {
        "colab": {
          "base_uri": "https://localhost:8080/",
          "height": 286
        },
        "id": "30QmfbNVIh3Z",
        "outputId": "a371cac5-d5c4-4476-b487-fc8d49478686"
      },
      "execution_count": 41,
      "outputs": [
        {
          "output_type": "display_data",
          "data": {
            "text/html": [
              "<table class=\"dataframe\">\n",
              "<caption>A tibble: 6 × 3</caption>\n",
              "<thead>\n",
              "\t<tr><th scope=col>ID_Cliente</th><th scope=col>Milhas_Utilizadas</th><th scope=col>Milhas_Acumuladas</th></tr>\n",
              "\t<tr><th scope=col>&lt;int&gt;</th><th scope=col>&lt;int&gt;</th><th scope=col>&lt;int&gt;</th></tr>\n",
              "</thead>\n",
              "<tbody>\n",
              "\t<tr><td> 3</td><td>1023</td><td> 917</td></tr>\n",
              "\t<tr><td> 7</td><td>9449</td><td>2583</td></tr>\n",
              "\t<tr><td> 7</td><td>4700</td><td>2583</td></tr>\n",
              "\t<tr><td>10</td><td>6537</td><td>3829</td></tr>\n",
              "\t<tr><td>12</td><td>9312</td><td>8857</td></tr>\n",
              "\t<tr><td>13</td><td>4123</td><td>2228</td></tr>\n",
              "</tbody>\n",
              "</table>\n"
            ],
            "text/markdown": "\nA tibble: 6 × 3\n\n| ID_Cliente &lt;int&gt; | Milhas_Utilizadas &lt;int&gt; | Milhas_Acumuladas &lt;int&gt; |\n|---|---|---|\n|  3 | 1023 |  917 |\n|  7 | 9449 | 2583 |\n|  7 | 4700 | 2583 |\n| 10 | 6537 | 3829 |\n| 12 | 9312 | 8857 |\n| 13 | 4123 | 2228 |\n\n",
            "text/latex": "A tibble: 6 × 3\n\\begin{tabular}{lll}\n ID\\_Cliente & Milhas\\_Utilizadas & Milhas\\_Acumuladas\\\\\n <int> & <int> & <int>\\\\\n\\hline\n\t  3 & 1023 &  917\\\\\n\t  7 & 9449 & 2583\\\\\n\t  7 & 4700 & 2583\\\\\n\t 10 & 6537 & 3829\\\\\n\t 12 & 9312 & 8857\\\\\n\t 13 & 4123 & 2228\\\\\n\\end{tabular}\n",
            "text/plain": [
              "  ID_Cliente Milhas_Utilizadas Milhas_Acumuladas\n",
              "1  3         1023               917             \n",
              "2  7         9449              2583             \n",
              "3  7         4700              2583             \n",
              "4 10         6537              3829             \n",
              "5 12         9312              8857             \n",
              "6 13         4123              2228             "
            ]
          },
          "metadata": {}
        }
      ]
    },
    {
      "cell_type": "code",
      "source": [
        "df_long <- transacoes_passagens %>% pivot_longer(\n",
        "  cols = starts_with('Milhas'),\n",
        "  names_to = \"Tipo_de_Milha\",\n",
        "  values_to = 'quantidade'\n",
        ") %>% select(ID_Cliente, Tipo_de_Milha, quantidade)"
      ],
      "metadata": {
        "id": "kpWZ6drM2juI"
      },
      "execution_count": 44,
      "outputs": []
    },
    {
      "cell_type": "code",
      "source": [
        "df_long %>% head()"
      ],
      "metadata": {
        "colab": {
          "base_uri": "https://localhost:8080/",
          "height": 286
        },
        "id": "fB69xovc3J2c",
        "outputId": "a54e9db2-add9-49a2-98a5-8747e47173a9"
      },
      "execution_count": 45,
      "outputs": [
        {
          "output_type": "display_data",
          "data": {
            "text/html": [
              "<table class=\"dataframe\">\n",
              "<caption>A tibble: 6 × 3</caption>\n",
              "<thead>\n",
              "\t<tr><th scope=col>ID_Cliente</th><th scope=col>Tipo_de_Milha</th><th scope=col>quantidade</th></tr>\n",
              "\t<tr><th scope=col>&lt;int&gt;</th><th scope=col>&lt;chr&gt;</th><th scope=col>&lt;int&gt;</th></tr>\n",
              "</thead>\n",
              "<tbody>\n",
              "\t<tr><td>3</td><td>Milhas_Utilizadas</td><td>1023</td></tr>\n",
              "\t<tr><td>3</td><td>Milhas_Acumuladas</td><td> 917</td></tr>\n",
              "\t<tr><td>7</td><td>Milhas_Utilizadas</td><td>9449</td></tr>\n",
              "\t<tr><td>7</td><td>Milhas_Acumuladas</td><td>2583</td></tr>\n",
              "\t<tr><td>7</td><td>Milhas_Utilizadas</td><td>4700</td></tr>\n",
              "\t<tr><td>7</td><td>Milhas_Acumuladas</td><td>2583</td></tr>\n",
              "</tbody>\n",
              "</table>\n"
            ],
            "text/markdown": "\nA tibble: 6 × 3\n\n| ID_Cliente &lt;int&gt; | Tipo_de_Milha &lt;chr&gt; | quantidade &lt;int&gt; |\n|---|---|---|\n| 3 | Milhas_Utilizadas | 1023 |\n| 3 | Milhas_Acumuladas |  917 |\n| 7 | Milhas_Utilizadas | 9449 |\n| 7 | Milhas_Acumuladas | 2583 |\n| 7 | Milhas_Utilizadas | 4700 |\n| 7 | Milhas_Acumuladas | 2583 |\n\n",
            "text/latex": "A tibble: 6 × 3\n\\begin{tabular}{lll}\n ID\\_Cliente & Tipo\\_de\\_Milha & quantidade\\\\\n <int> & <chr> & <int>\\\\\n\\hline\n\t 3 & Milhas\\_Utilizadas & 1023\\\\\n\t 3 & Milhas\\_Acumuladas &  917\\\\\n\t 7 & Milhas\\_Utilizadas & 9449\\\\\n\t 7 & Milhas\\_Acumuladas & 2583\\\\\n\t 7 & Milhas\\_Utilizadas & 4700\\\\\n\t 7 & Milhas\\_Acumuladas & 2583\\\\\n\\end{tabular}\n",
            "text/plain": [
              "  ID_Cliente Tipo_de_Milha     quantidade\n",
              "1 3          Milhas_Utilizadas 1023      \n",
              "2 3          Milhas_Acumuladas  917      \n",
              "3 7          Milhas_Utilizadas 9449      \n",
              "4 7          Milhas_Acumuladas 2583      \n",
              "5 7          Milhas_Utilizadas 4700      \n",
              "6 7          Milhas_Acumuladas 2583      "
            ]
          },
          "metadata": {}
        }
      ]
    },
    {
      "cell_type": "code",
      "source": [
        "df_long %>%\n",
        "  group_by(Tipo_de_Milha) %>%\n",
        "  summarise(\n",
        "  media = mean(quantidade),\n",
        "  mediana = median(quantidade),\n",
        "  desvio_padrao = sd(quantidade)\n",
        ")"
      ],
      "metadata": {
        "colab": {
          "base_uri": "https://localhost:8080/",
          "height": 161
        },
        "id": "M4nFyJgX4Ga_",
        "outputId": "82e099ce-553e-4c72-d288-ac583bda31db"
      },
      "execution_count": 46,
      "outputs": [
        {
          "output_type": "display_data",
          "data": {
            "text/html": [
              "<table class=\"dataframe\">\n",
              "<caption>A tibble: 2 × 4</caption>\n",
              "<thead>\n",
              "\t<tr><th scope=col>Tipo_de_Milha</th><th scope=col>media</th><th scope=col>mediana</th><th scope=col>desvio_padrao</th></tr>\n",
              "\t<tr><th scope=col>&lt;chr&gt;</th><th scope=col>&lt;dbl&gt;</th><th scope=col>&lt;dbl&gt;</th><th scope=col>&lt;dbl&gt;</th></tr>\n",
              "</thead>\n",
              "<tbody>\n",
              "\t<tr><td>Milhas_Acumuladas</td><td>5028.865</td><td>4926.5</td><td>2916.979</td></tr>\n",
              "\t<tr><td>Milhas_Utilizadas</td><td>5112.629</td><td>5260.5</td><td>2793.163</td></tr>\n",
              "</tbody>\n",
              "</table>\n"
            ],
            "text/markdown": "\nA tibble: 2 × 4\n\n| Tipo_de_Milha &lt;chr&gt; | media &lt;dbl&gt; | mediana &lt;dbl&gt; | desvio_padrao &lt;dbl&gt; |\n|---|---|---|---|\n| Milhas_Acumuladas | 5028.865 | 4926.5 | 2916.979 |\n| Milhas_Utilizadas | 5112.629 | 5260.5 | 2793.163 |\n\n",
            "text/latex": "A tibble: 2 × 4\n\\begin{tabular}{llll}\n Tipo\\_de\\_Milha & media & mediana & desvio\\_padrao\\\\\n <chr> & <dbl> & <dbl> & <dbl>\\\\\n\\hline\n\t Milhas\\_Acumuladas & 5028.865 & 4926.5 & 2916.979\\\\\n\t Milhas\\_Utilizadas & 5112.629 & 5260.5 & 2793.163\\\\\n\\end{tabular}\n",
            "text/plain": [
              "  Tipo_de_Milha     media    mediana desvio_padrao\n",
              "1 Milhas_Acumuladas 5028.865 4926.5  2916.979     \n",
              "2 Milhas_Utilizadas 5112.629 5260.5  2793.163     "
            ]
          },
          "metadata": {}
        }
      ]
    },
    {
      "cell_type": "code",
      "source": [],
      "metadata": {
        "id": "FN1gMNv04xOc"
      },
      "execution_count": null,
      "outputs": []
    }
  ]
}